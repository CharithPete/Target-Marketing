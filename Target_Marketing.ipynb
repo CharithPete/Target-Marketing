{
  "nbformat": 4,
  "nbformat_minor": 0,
  "metadata": {
    "accelerator": "TPU",
    "colab": {
      "name": "Target Marketing.ipynb",
      "provenance": [],
      "collapsed_sections": []
    },
    "kernelspec": {
      "display_name": "Python 3",
      "name": "python3"
    }
  },
  "cells": [
    {
      "cell_type": "markdown",
      "metadata": {
        "id": "SdHbbOspteV1"
      },
      "source": [
        "# Importing Libraries/Connecting to GDrive"
      ]
    },
    {
      "cell_type": "code",
      "metadata": {
        "colab": {
          "base_uri": "https://localhost:8080/"
        },
        "id": "w1hDk9hDvOH7",
        "outputId": "8e993e4e-037f-4258-a47c-5a6be74c119f"
      },
      "source": [
        "import pandas as pd\n",
        "from sklearn.preprocessing import label_binarize\n",
        "import numpy as np\n",
        "from sklearn.model_selection import train_test_split\n",
        "from sklearn.ensemble import RandomForestClassifier\n",
        "from sklearn.tree import DecisionTreeClassifier\n",
        "from sklearn.model_selection import GridSearchCV\n",
        "from sklearn.model_selection import RandomizedSearchCV\n",
        "from sklearn.model_selection import cross_val_score\n",
        "from sklearn.metrics import classification_report, confusion_matrix\n",
        "from sklearn.ensemble import GradientBoostingClassifier\n",
        "\n",
        "import warnings\n",
        "warnings.filterwarnings(\"ignore\")\n",
        "#Please ignore the warnings with version change\n",
        "\n",
        "from google.colab import drive\n",
        "drive.mount('/gdrive')\n",
        "#Change current working directory to gdrive\n",
        "%cd /gdrive\n",
        "\n"
      ],
      "execution_count": 1,
      "outputs": [
        {
          "output_type": "stream",
          "name": "stdout",
          "text": [
            "Mounted at /gdrive\n",
            "/gdrive\n"
          ]
        }
      ]
    },
    {
      "cell_type": "markdown",
      "metadata": {
        "id": "Y_15LhOHs00E"
      },
      "source": [
        "# Exploratory Data Analysis"
      ]
    },
    {
      "cell_type": "code",
      "metadata": {
        "colab": {
          "base_uri": "https://localhost:8080/"
        },
        "id": "BMwGQK7KAd7T",
        "outputId": "6fe69df1-d359-4101-fb99-0680b3077f8f"
      },
      "source": [
        "trainfile = r'/gdrive/My Drive/CIS 508/Assignment 2/Portugese Bank Data - TRAIN.csv'\n",
        "trainData = pd.read_csv(trainfile) #creates a dataframe\n",
        "testfile = r'/gdrive/My Drive/CIS 508/Assignment 2/Portugese Bank Data - TEST.csv'\n",
        "testData = pd.read_csv(testfile)  #creates a dataframe\n",
        "\n",
        "\n",
        "print(trainData.shape)\n",
        "print(testData.shape)\n",
        "\n"
      ],
      "execution_count": 3,
      "outputs": [
        {
          "output_type": "stream",
          "name": "stdout",
          "text": [
            "(4521, 17)\n",
            "(45211, 17)\n"
          ]
        }
      ]
    },
    {
      "cell_type": "code",
      "metadata": {
        "colab": {
          "base_uri": "https://localhost:8080/",
          "height": 206
        },
        "id": "U2_I3Ii4oqF1",
        "outputId": "9d809c84-0569-4442-a1e6-11de9aa50958"
      },
      "source": [
        "trainData.head(5)"
      ],
      "execution_count": 4,
      "outputs": [
        {
          "output_type": "execute_result",
          "data": {
            "text/html": [
              "<div>\n",
              "<style scoped>\n",
              "    .dataframe tbody tr th:only-of-type {\n",
              "        vertical-align: middle;\n",
              "    }\n",
              "\n",
              "    .dataframe tbody tr th {\n",
              "        vertical-align: top;\n",
              "    }\n",
              "\n",
              "    .dataframe thead th {\n",
              "        text-align: right;\n",
              "    }\n",
              "</style>\n",
              "<table border=\"1\" class=\"dataframe\">\n",
              "  <thead>\n",
              "    <tr style=\"text-align: right;\">\n",
              "      <th></th>\n",
              "      <th>age</th>\n",
              "      <th>job</th>\n",
              "      <th>marital</th>\n",
              "      <th>education</th>\n",
              "      <th>default</th>\n",
              "      <th>balance</th>\n",
              "      <th>housing</th>\n",
              "      <th>loan</th>\n",
              "      <th>contact</th>\n",
              "      <th>day</th>\n",
              "      <th>month</th>\n",
              "      <th>duration</th>\n",
              "      <th>campaign</th>\n",
              "      <th>pdays</th>\n",
              "      <th>previous</th>\n",
              "      <th>poutcome</th>\n",
              "      <th>y</th>\n",
              "    </tr>\n",
              "  </thead>\n",
              "  <tbody>\n",
              "    <tr>\n",
              "      <th>0</th>\n",
              "      <td>30</td>\n",
              "      <td>unemployed</td>\n",
              "      <td>married</td>\n",
              "      <td>primary</td>\n",
              "      <td>no</td>\n",
              "      <td>1787</td>\n",
              "      <td>no</td>\n",
              "      <td>no</td>\n",
              "      <td>cellular</td>\n",
              "      <td>19</td>\n",
              "      <td>oct</td>\n",
              "      <td>79</td>\n",
              "      <td>1</td>\n",
              "      <td>-1</td>\n",
              "      <td>0</td>\n",
              "      <td>unknown</td>\n",
              "      <td>no</td>\n",
              "    </tr>\n",
              "    <tr>\n",
              "      <th>1</th>\n",
              "      <td>33</td>\n",
              "      <td>services</td>\n",
              "      <td>married</td>\n",
              "      <td>secondary</td>\n",
              "      <td>no</td>\n",
              "      <td>4789</td>\n",
              "      <td>yes</td>\n",
              "      <td>yes</td>\n",
              "      <td>cellular</td>\n",
              "      <td>11</td>\n",
              "      <td>may</td>\n",
              "      <td>220</td>\n",
              "      <td>1</td>\n",
              "      <td>339</td>\n",
              "      <td>4</td>\n",
              "      <td>failure</td>\n",
              "      <td>no</td>\n",
              "    </tr>\n",
              "    <tr>\n",
              "      <th>2</th>\n",
              "      <td>35</td>\n",
              "      <td>management</td>\n",
              "      <td>single</td>\n",
              "      <td>tertiary</td>\n",
              "      <td>no</td>\n",
              "      <td>1350</td>\n",
              "      <td>yes</td>\n",
              "      <td>no</td>\n",
              "      <td>cellular</td>\n",
              "      <td>16</td>\n",
              "      <td>apr</td>\n",
              "      <td>185</td>\n",
              "      <td>1</td>\n",
              "      <td>330</td>\n",
              "      <td>1</td>\n",
              "      <td>failure</td>\n",
              "      <td>no</td>\n",
              "    </tr>\n",
              "    <tr>\n",
              "      <th>3</th>\n",
              "      <td>30</td>\n",
              "      <td>management</td>\n",
              "      <td>married</td>\n",
              "      <td>tertiary</td>\n",
              "      <td>no</td>\n",
              "      <td>1476</td>\n",
              "      <td>yes</td>\n",
              "      <td>yes</td>\n",
              "      <td>unknown</td>\n",
              "      <td>3</td>\n",
              "      <td>jun</td>\n",
              "      <td>199</td>\n",
              "      <td>4</td>\n",
              "      <td>-1</td>\n",
              "      <td>0</td>\n",
              "      <td>unknown</td>\n",
              "      <td>no</td>\n",
              "    </tr>\n",
              "    <tr>\n",
              "      <th>4</th>\n",
              "      <td>59</td>\n",
              "      <td>blue-collar</td>\n",
              "      <td>married</td>\n",
              "      <td>secondary</td>\n",
              "      <td>no</td>\n",
              "      <td>0</td>\n",
              "      <td>yes</td>\n",
              "      <td>no</td>\n",
              "      <td>unknown</td>\n",
              "      <td>5</td>\n",
              "      <td>may</td>\n",
              "      <td>226</td>\n",
              "      <td>1</td>\n",
              "      <td>-1</td>\n",
              "      <td>0</td>\n",
              "      <td>unknown</td>\n",
              "      <td>no</td>\n",
              "    </tr>\n",
              "  </tbody>\n",
              "</table>\n",
              "</div>"
            ],
            "text/plain": [
              "   age          job  marital  education  ... pdays  previous poutcome   y\n",
              "0   30   unemployed  married    primary  ...    -1         0  unknown  no\n",
              "1   33     services  married  secondary  ...   339         4  failure  no\n",
              "2   35   management   single   tertiary  ...   330         1  failure  no\n",
              "3   30   management  married   tertiary  ...    -1         0  unknown  no\n",
              "4   59  blue-collar  married  secondary  ...    -1         0  unknown  no\n",
              "\n",
              "[5 rows x 17 columns]"
            ]
          },
          "metadata": {},
          "execution_count": 4
        }
      ]
    },
    {
      "cell_type": "code",
      "metadata": {
        "colab": {
          "base_uri": "https://localhost:8080/",
          "height": 741
        },
        "id": "B4bU7IX1ot3w",
        "outputId": "415c0aaa-6b9e-4400-e314-8b9cc725ced1"
      },
      "source": [
        "trainData.info()\n",
        "trainData.describe()"
      ],
      "execution_count": 5,
      "outputs": [
        {
          "output_type": "stream",
          "name": "stdout",
          "text": [
            "<class 'pandas.core.frame.DataFrame'>\n",
            "RangeIndex: 4521 entries, 0 to 4520\n",
            "Data columns (total 17 columns):\n",
            " #   Column     Non-Null Count  Dtype \n",
            "---  ------     --------------  ----- \n",
            " 0   age        4521 non-null   int64 \n",
            " 1   job        4521 non-null   object\n",
            " 2   marital    4521 non-null   object\n",
            " 3   education  4521 non-null   object\n",
            " 4   default    4521 non-null   object\n",
            " 5   balance    4521 non-null   int64 \n",
            " 6   housing    4521 non-null   object\n",
            " 7   loan       4521 non-null   object\n",
            " 8   contact    4521 non-null   object\n",
            " 9   day        4521 non-null   int64 \n",
            " 10  month      4521 non-null   object\n",
            " 11  duration   4521 non-null   int64 \n",
            " 12  campaign   4521 non-null   int64 \n",
            " 13  pdays      4521 non-null   int64 \n",
            " 14  previous   4521 non-null   int64 \n",
            " 15  poutcome   4521 non-null   object\n",
            " 16  y          4521 non-null   object\n",
            "dtypes: int64(7), object(10)\n",
            "memory usage: 600.6+ KB\n"
          ]
        },
        {
          "output_type": "execute_result",
          "data": {
            "text/html": [
              "<div>\n",
              "<style scoped>\n",
              "    .dataframe tbody tr th:only-of-type {\n",
              "        vertical-align: middle;\n",
              "    }\n",
              "\n",
              "    .dataframe tbody tr th {\n",
              "        vertical-align: top;\n",
              "    }\n",
              "\n",
              "    .dataframe thead th {\n",
              "        text-align: right;\n",
              "    }\n",
              "</style>\n",
              "<table border=\"1\" class=\"dataframe\">\n",
              "  <thead>\n",
              "    <tr style=\"text-align: right;\">\n",
              "      <th></th>\n",
              "      <th>age</th>\n",
              "      <th>balance</th>\n",
              "      <th>day</th>\n",
              "      <th>duration</th>\n",
              "      <th>campaign</th>\n",
              "      <th>pdays</th>\n",
              "      <th>previous</th>\n",
              "    </tr>\n",
              "  </thead>\n",
              "  <tbody>\n",
              "    <tr>\n",
              "      <th>count</th>\n",
              "      <td>4521.000000</td>\n",
              "      <td>4521.000000</td>\n",
              "      <td>4521.000000</td>\n",
              "      <td>4521.000000</td>\n",
              "      <td>4521.000000</td>\n",
              "      <td>4521.000000</td>\n",
              "      <td>4521.000000</td>\n",
              "    </tr>\n",
              "    <tr>\n",
              "      <th>mean</th>\n",
              "      <td>41.170095</td>\n",
              "      <td>1422.657819</td>\n",
              "      <td>15.915284</td>\n",
              "      <td>263.961292</td>\n",
              "      <td>2.793630</td>\n",
              "      <td>39.766645</td>\n",
              "      <td>0.542579</td>\n",
              "    </tr>\n",
              "    <tr>\n",
              "      <th>std</th>\n",
              "      <td>10.576211</td>\n",
              "      <td>3009.638142</td>\n",
              "      <td>8.247667</td>\n",
              "      <td>259.856633</td>\n",
              "      <td>3.109807</td>\n",
              "      <td>100.121124</td>\n",
              "      <td>1.693562</td>\n",
              "    </tr>\n",
              "    <tr>\n",
              "      <th>min</th>\n",
              "      <td>19.000000</td>\n",
              "      <td>-3313.000000</td>\n",
              "      <td>1.000000</td>\n",
              "      <td>4.000000</td>\n",
              "      <td>1.000000</td>\n",
              "      <td>-1.000000</td>\n",
              "      <td>0.000000</td>\n",
              "    </tr>\n",
              "    <tr>\n",
              "      <th>25%</th>\n",
              "      <td>33.000000</td>\n",
              "      <td>69.000000</td>\n",
              "      <td>9.000000</td>\n",
              "      <td>104.000000</td>\n",
              "      <td>1.000000</td>\n",
              "      <td>-1.000000</td>\n",
              "      <td>0.000000</td>\n",
              "    </tr>\n",
              "    <tr>\n",
              "      <th>50%</th>\n",
              "      <td>39.000000</td>\n",
              "      <td>444.000000</td>\n",
              "      <td>16.000000</td>\n",
              "      <td>185.000000</td>\n",
              "      <td>2.000000</td>\n",
              "      <td>-1.000000</td>\n",
              "      <td>0.000000</td>\n",
              "    </tr>\n",
              "    <tr>\n",
              "      <th>75%</th>\n",
              "      <td>49.000000</td>\n",
              "      <td>1480.000000</td>\n",
              "      <td>21.000000</td>\n",
              "      <td>329.000000</td>\n",
              "      <td>3.000000</td>\n",
              "      <td>-1.000000</td>\n",
              "      <td>0.000000</td>\n",
              "    </tr>\n",
              "    <tr>\n",
              "      <th>max</th>\n",
              "      <td>87.000000</td>\n",
              "      <td>71188.000000</td>\n",
              "      <td>31.000000</td>\n",
              "      <td>3025.000000</td>\n",
              "      <td>50.000000</td>\n",
              "      <td>871.000000</td>\n",
              "      <td>25.000000</td>\n",
              "    </tr>\n",
              "  </tbody>\n",
              "</table>\n",
              "</div>"
            ],
            "text/plain": [
              "               age       balance  ...        pdays     previous\n",
              "count  4521.000000   4521.000000  ...  4521.000000  4521.000000\n",
              "mean     41.170095   1422.657819  ...    39.766645     0.542579\n",
              "std      10.576211   3009.638142  ...   100.121124     1.693562\n",
              "min      19.000000  -3313.000000  ...    -1.000000     0.000000\n",
              "25%      33.000000     69.000000  ...    -1.000000     0.000000\n",
              "50%      39.000000    444.000000  ...    -1.000000     0.000000\n",
              "75%      49.000000   1480.000000  ...    -1.000000     0.000000\n",
              "max      87.000000  71188.000000  ...   871.000000    25.000000\n",
              "\n",
              "[8 rows x 7 columns]"
            ]
          },
          "metadata": {},
          "execution_count": 5
        }
      ]
    },
    {
      "cell_type": "code",
      "metadata": {
        "colab": {
          "base_uri": "https://localhost:8080/"
        },
        "id": "gC0Ldn-Sox8s",
        "outputId": "a85137d1-9d51-45c0-ed0a-83e29030484f"
      },
      "source": [
        "trainData.isna().sum()"
      ],
      "execution_count": 6,
      "outputs": [
        {
          "output_type": "execute_result",
          "data": {
            "text/plain": [
              "age          0\n",
              "job          0\n",
              "marital      0\n",
              "education    0\n",
              "default      0\n",
              "balance      0\n",
              "housing      0\n",
              "loan         0\n",
              "contact      0\n",
              "day          0\n",
              "month        0\n",
              "duration     0\n",
              "campaign     0\n",
              "pdays        0\n",
              "previous     0\n",
              "poutcome     0\n",
              "y            0\n",
              "dtype: int64"
            ]
          },
          "metadata": {},
          "execution_count": 6
        }
      ]
    },
    {
      "cell_type": "code",
      "metadata": {
        "id": "SWOTk6C1Ao45"
      },
      "source": [
        "#List of Features\n",
        "Features = [\"job\", 'marital', \"education\", \"default\", \"balance\", 'housing', 'loan', 'contact', 'day', 'month', 'duration', 'campaign', 'pdays', 'previous', 'poutcome']\n",
        "\n",
        "#Combine Train and test for one Hot Encoding\n",
        "combined_Data = pd.concat([trainData,testData], keys=[0,1])\n",
        "\n",
        "#Do one Hot encoding for features\n",
        "combined_Data = pd.get_dummies(combined_Data,columns=Features)\n",
        "\n",
        "#Separate Train data and test data\n",
        "trainData = combined_Data.xs(0)\n",
        "testData = combined_Data.xs(1)\n",
        "\n",
        "y_train = trainData['y']\n",
        "X_train = trainData.drop(['y'], axis=1) #extracting training data without the target column\n",
        "y_test = testData['y']\n",
        "X_test = testData.drop(['y'], axis=1) #extracting testing data without the target column\n",
        "\n"
      ],
      "execution_count": 7,
      "outputs": []
    },
    {
      "cell_type": "markdown",
      "metadata": {
        "id": "TUllygIos9Kg"
      },
      "source": [
        "# Decision Tree Modeling"
      ]
    },
    {
      "cell_type": "code",
      "metadata": {
        "colab": {
          "base_uri": "https://localhost:8080/"
        },
        "id": "-Yd724taAv3o",
        "outputId": "b0eee0d3-7169-4f11-84de-d55320c6c861"
      },
      "source": [
        "#Decision Tree Classifier ========================================================================\n",
        "#CONSTRUCT DEFAULT DECISION TREE AND OBTAIN RESPECTIVE ACCURACY \n",
        "clf = DecisionTreeClassifier()\n",
        "clf.fit(X_train, y_train)\n",
        "clf_predict=clf.predict(X_test)\n",
        "print(\"accuracy Score (testset) for Decision Tree:{0:6f}\".format(clf.score(X_test,y_test)))\n",
        "print(\"Confusion Matrix for Decision Tree\")\n",
        "print(confusion_matrix(y_test,clf_predict))\n",
        "\n"
      ],
      "execution_count": 10,
      "outputs": [
        {
          "output_type": "stream",
          "name": "stdout",
          "text": [
            "accuracy Score (testset) for Decision Tree:0.880649\n",
            "Confusion Matrix for Decision Tree\n",
            "[[38068  1854]\n",
            " [ 3542  1747]]\n"
          ]
        }
      ]
    },
    {
      "cell_type": "code",
      "metadata": {
        "colab": {
          "base_uri": "https://localhost:8080/"
        },
        "id": "TXb6pXkivLBe",
        "outputId": "df4d95bd-88ca-411c-cf7d-5c18d283d5c7"
      },
      "source": [
        "print(clf.feature_importances_)"
      ],
      "execution_count": null,
      "outputs": [
        {
          "output_type": "stream",
          "name": "stdout",
          "text": [
            "[0. 0. 0. ... 0. 0. 0.]\n"
          ]
        }
      ]
    },
    {
      "cell_type": "markdown",
      "metadata": {
        "id": "M25FeRUeQQkr"
      },
      "source": [
        "###Decision Tree Hyperparameter Tuning 1\n",
        "\n",
        "\n"
      ]
    },
    {
      "cell_type": "code",
      "metadata": {
        "colab": {
          "base_uri": "https://localhost:8080/"
        },
        "id": "acymCZogA1B1",
        "outputId": "65b7ec91-54e4-4a72-915a-ce13086e5699"
      },
      "source": [
        "#Hyperparameter tuning done for decision tree classifier\n",
        "\n",
        "#do random search\n",
        "print(\"RandomizedSearchCV-Decision tree\")\n",
        "parameters={'min_samples_leaf' : range(100,1000,100),'max_depth': range(15,50,15),'criterion':['gini','entropy']}\n",
        "clf_random = RandomizedSearchCV(clf,parameters,n_iter=10,cv=10)\n",
        "clf_random.fit(X_train, y_train)\n",
        "grid_parm=clf_random.best_params_\n",
        "print(grid_parm)"
      ],
      "execution_count": 11,
      "outputs": [
        {
          "output_type": "stream",
          "name": "stdout",
          "text": [
            "RandomizedSearchCV-Decision tree\n",
            "{'min_samples_leaf': 100, 'max_depth': 15, 'criterion': 'entropy'}\n"
          ]
        }
      ]
    },
    {
      "cell_type": "code",
      "metadata": {
        "colab": {
          "base_uri": "https://localhost:8080/"
        },
        "id": "LrVi-mErwtCz",
        "outputId": "780c24bf-9e3b-4cb2-e97a-ea01e4f6065e"
      },
      "source": [
        "#Now do grid search\n",
        "print(\"GridSearchCV-Decision tree\")\n",
        "parameters2={'min_samples_leaf' : range(10,50,10),'criterion':['gini','entropy'], 'splitter':['best','random']}\n",
        "clf_grid = GridSearchCV(clf, parameters2, cv=5, verbose=1)\n",
        "clf_grid.fit(X_train, y_train)\n",
        "grid_parm1=clf_grid.best_params_\n",
        "print(grid_parm1)"
      ],
      "execution_count": 12,
      "outputs": [
        {
          "output_type": "stream",
          "name": "stdout",
          "text": [
            "GridSearchCV-Decision tree\n",
            "Fitting 5 folds for each of 16 candidates, totalling 80 fits\n"
          ]
        },
        {
          "output_type": "stream",
          "name": "stderr",
          "text": [
            "[Parallel(n_jobs=1)]: Using backend SequentialBackend with 1 concurrent workers.\n",
            "[Parallel(n_jobs=1)]: Done  80 out of  80 | elapsed:  1.3min finished\n"
          ]
        },
        {
          "output_type": "stream",
          "name": "stdout",
          "text": [
            "{'criterion': 'gini', 'min_samples_leaf': 40, 'splitter': 'best'}\n"
          ]
        }
      ]
    },
    {
      "cell_type": "code",
      "metadata": {
        "id": "EesI2Lc7A587"
      },
      "source": [
        "#Using the parameters obtained from HyperParameterTuning in the DecisionTreeClassifier\n",
        "#Construct Decision Trees using the best parameters\n",
        "clf = DecisionTreeClassifier(**grid_parm)\n",
        "clfr = DecisionTreeClassifier(**grid_parm1)\n",
        "\n",
        "clf.fit(X_train,y_train)\n",
        "clf_predict = clf.predict(X_test)\n",
        "clfr.fit(X_train,y_train)\n",
        "clfr_predict = clfr.predict(X_test)\n",
        "\n",
        "\n"
      ],
      "execution_count": 13,
      "outputs": []
    },
    {
      "cell_type": "code",
      "metadata": {
        "colab": {
          "base_uri": "https://localhost:8080/"
        },
        "id": "UW1oB-MjBAjK",
        "outputId": "27217ef5-3969-4b58-de53-ac092b4af97f"
      },
      "source": [
        "#Obtain accuracy ,confusion matrix,classification report and AUC values for the result above.\n",
        "print(\"accuracy Score (testset) after hypertuning randomized search for Decision Tree:{0:6f}\".format(clf.score(X_test,y_test)))\n",
        "\n",
        "print(\"accuracy Score (testset) after hypertuning grid search for Decision Tree:{0:6f}\".format(clfr.score(X_test,y_test)))\n",
        "print(\"Confusion Matrix after hypertuning for Decision Tree\")\n",
        "print(confusion_matrix(y_test,clf_predict))\n",
        "print(\"=== Classification Report ===\")\n",
        "print(classification_report(y_test,clf_predict))\n"
      ],
      "execution_count": 14,
      "outputs": [
        {
          "output_type": "stream",
          "name": "stdout",
          "text": [
            "accuracy Score (testset) after hypertuning randomized search for Decision Tree:0.892858\n",
            "accuracy Score (testset) after hypertuning grid search for Decision Tree:0.892261\n",
            "Confusion Matrix after hypertuning for Decision Tree\n",
            "[[39389   533]\n",
            " [ 4311   978]]\n",
            "=== Classification Report ===\n",
            "              precision    recall  f1-score   support\n",
            "\n",
            "          no       0.90      0.99      0.94     39922\n",
            "         yes       0.65      0.18      0.29      5289\n",
            "\n",
            "    accuracy                           0.89     45211\n",
            "   macro avg       0.77      0.59      0.61     45211\n",
            "weighted avg       0.87      0.89      0.87     45211\n",
            "\n"
          ]
        }
      ]
    },
    {
      "cell_type": "code",
      "metadata": {
        "colab": {
          "base_uri": "https://localhost:8080/"
        },
        "id": "rl4BPVZoFYyg",
        "outputId": "e84e3360-a124-43ef-c1c4-deecde65f6a0"
      },
      "source": [
        "#cross validation using decision tree model\n",
        "clf_cv_score = cross_val_score(clf, X_train, y_train, cv=5, \n",
        "                               scoring=\"balanced_accuracy\")\n",
        "print(clf_cv_score)\n",
        "print('\\n')"
      ],
      "execution_count": 15,
      "outputs": [
        {
          "output_type": "stream",
          "name": "stdout",
          "text": [
            "[0.57470238 0.57423077 0.56230769 0.56230769 0.58572115]\n",
            "\n",
            "\n"
          ]
        }
      ]
    },
    {
      "cell_type": "markdown",
      "metadata": {
        "id": "N_FjQWcHQYmy"
      },
      "source": [
        "###Decision Tree Hyperparameter Tuning 2\n",
        "\n",
        "\n"
      ]
    },
    {
      "cell_type": "code",
      "metadata": {
        "colab": {
          "base_uri": "https://localhost:8080/"
        },
        "id": "Mah2rEK3QhQ_",
        "outputId": "12412261-87f4-43c5-84ec-2a209354baca"
      },
      "source": [
        "#Hyperparameter tuning done for decision tree classifier\n",
        "\n",
        "#do random search\n",
        "print(\"RandomizedSearchCV-Decision tree\")\n",
        "parameters={'min_samples_leaf' : range(400,500,40),'max_depth': range(25,100,25),'criterion':['entropy'], 'max_leaf_nodes' : range(10,50,10)}\n",
        "clf_random = RandomizedSearchCV(clf,parameters,n_iter=4,cv=5)\n",
        "clf_random.fit(X_train, y_train)\n",
        "grid_parm=clf_random.best_params_\n",
        "print(grid_parm)"
      ],
      "execution_count": 16,
      "outputs": [
        {
          "output_type": "stream",
          "name": "stdout",
          "text": [
            "RandomizedSearchCV-Decision tree\n",
            "{'min_samples_leaf': 480, 'max_leaf_nodes': 20, 'max_depth': 50, 'criterion': 'entropy'}\n"
          ]
        }
      ]
    },
    {
      "cell_type": "code",
      "metadata": {
        "colab": {
          "base_uri": "https://localhost:8080/"
        },
        "id": "mkzXCNC0QiiY",
        "outputId": "e74cdea6-11c7-4ee1-dfd8-ecaa80e44f8d"
      },
      "source": [
        "#Now do grid search\n",
        "print(\"GridSearchCV-Decision tree\")\n",
        "parameters2={'min_samples_leaf' : range(30,90,30),'criterion':['gini','entropy'], 'splitter':['random']}\n",
        "clf_grid = GridSearchCV(clf, parameters2, cv=10, verbose=4, n_jobs=1)\n",
        "clf_grid.fit(X_train, y_train)\n",
        "grid_parm1=clf_grid.best_params_\n",
        "print(grid_parm1)"
      ],
      "execution_count": 17,
      "outputs": [
        {
          "output_type": "stream",
          "name": "stdout",
          "text": [
            "GridSearchCV-Decision tree\n",
            "Fitting 10 folds for each of 4 candidates, totalling 40 fits\n",
            "[CV] criterion=gini, min_samples_leaf=30, splitter=random ............\n"
          ]
        },
        {
          "output_type": "stream",
          "name": "stderr",
          "text": [
            "[Parallel(n_jobs=1)]: Using backend SequentialBackend with 1 concurrent workers.\n"
          ]
        },
        {
          "output_type": "stream",
          "name": "stdout",
          "text": [
            "[CV]  criterion=gini, min_samples_leaf=30, splitter=random, score=0.883, total=   1.0s\n",
            "[CV] criterion=gini, min_samples_leaf=30, splitter=random ............\n"
          ]
        },
        {
          "output_type": "stream",
          "name": "stderr",
          "text": [
            "[Parallel(n_jobs=1)]: Done   1 out of   1 | elapsed:    1.0s remaining:    0.0s\n"
          ]
        },
        {
          "output_type": "stream",
          "name": "stdout",
          "text": [
            "[CV]  criterion=gini, min_samples_leaf=30, splitter=random, score=0.894, total=   1.0s\n",
            "[CV] criterion=gini, min_samples_leaf=30, splitter=random ............\n"
          ]
        },
        {
          "output_type": "stream",
          "name": "stderr",
          "text": [
            "[Parallel(n_jobs=1)]: Done   2 out of   2 | elapsed:    2.0s remaining:    0.0s\n"
          ]
        },
        {
          "output_type": "stream",
          "name": "stdout",
          "text": [
            "[CV]  criterion=gini, min_samples_leaf=30, splitter=random, score=0.894, total=   1.0s\n",
            "[CV] criterion=gini, min_samples_leaf=30, splitter=random ............\n"
          ]
        },
        {
          "output_type": "stream",
          "name": "stderr",
          "text": [
            "[Parallel(n_jobs=1)]: Done   3 out of   3 | elapsed:    3.0s remaining:    0.0s\n"
          ]
        },
        {
          "output_type": "stream",
          "name": "stdout",
          "text": [
            "[CV]  criterion=gini, min_samples_leaf=30, splitter=random, score=0.892, total=   1.0s\n",
            "[CV] criterion=gini, min_samples_leaf=30, splitter=random ............\n",
            "[CV]  criterion=gini, min_samples_leaf=30, splitter=random, score=0.883, total=   1.0s\n",
            "[CV] criterion=gini, min_samples_leaf=30, splitter=random ............\n",
            "[CV]  criterion=gini, min_samples_leaf=30, splitter=random, score=0.894, total=   1.0s\n",
            "[CV] criterion=gini, min_samples_leaf=30, splitter=random ............\n",
            "[CV]  criterion=gini, min_samples_leaf=30, splitter=random, score=0.892, total=   1.0s\n",
            "[CV] criterion=gini, min_samples_leaf=30, splitter=random ............\n",
            "[CV]  criterion=gini, min_samples_leaf=30, splitter=random, score=0.892, total=   0.9s\n",
            "[CV] criterion=gini, min_samples_leaf=30, splitter=random ............\n",
            "[CV]  criterion=gini, min_samples_leaf=30, splitter=random, score=0.900, total=   1.0s\n",
            "[CV] criterion=gini, min_samples_leaf=30, splitter=random ............\n",
            "[CV]  criterion=gini, min_samples_leaf=30, splitter=random, score=0.889, total=   1.0s\n",
            "[CV] criterion=gini, min_samples_leaf=60, splitter=random ............\n",
            "[CV]  criterion=gini, min_samples_leaf=60, splitter=random, score=0.890, total=   0.9s\n",
            "[CV] criterion=gini, min_samples_leaf=60, splitter=random ............\n",
            "[CV]  criterion=gini, min_samples_leaf=60, splitter=random, score=0.894, total=   0.9s\n",
            "[CV] criterion=gini, min_samples_leaf=60, splitter=random ............\n",
            "[CV]  criterion=gini, min_samples_leaf=60, splitter=random, score=0.894, total=   0.8s\n",
            "[CV] criterion=gini, min_samples_leaf=60, splitter=random ............\n",
            "[CV]  criterion=gini, min_samples_leaf=60, splitter=random, score=0.894, total=   0.9s\n",
            "[CV] criterion=gini, min_samples_leaf=60, splitter=random ............\n",
            "[CV]  criterion=gini, min_samples_leaf=60, splitter=random, score=0.889, total=   0.9s\n",
            "[CV] criterion=gini, min_samples_leaf=60, splitter=random ............\n",
            "[CV]  criterion=gini, min_samples_leaf=60, splitter=random, score=0.894, total=   0.9s\n",
            "[CV] criterion=gini, min_samples_leaf=60, splitter=random ............\n",
            "[CV]  criterion=gini, min_samples_leaf=60, splitter=random, score=0.892, total=   1.0s\n",
            "[CV] criterion=gini, min_samples_leaf=60, splitter=random ............\n",
            "[CV]  criterion=gini, min_samples_leaf=60, splitter=random, score=0.892, total=   0.9s\n",
            "[CV] criterion=gini, min_samples_leaf=60, splitter=random ............\n",
            "[CV]  criterion=gini, min_samples_leaf=60, splitter=random, score=0.900, total=   0.9s\n",
            "[CV] criterion=gini, min_samples_leaf=60, splitter=random ............\n",
            "[CV]  criterion=gini, min_samples_leaf=60, splitter=random, score=0.892, total=   0.9s\n",
            "[CV] criterion=entropy, min_samples_leaf=30, splitter=random .........\n",
            "[CV]  criterion=entropy, min_samples_leaf=30, splitter=random, score=0.883, total=   1.0s\n",
            "[CV] criterion=entropy, min_samples_leaf=30, splitter=random .........\n",
            "[CV]  criterion=entropy, min_samples_leaf=30, splitter=random, score=0.894, total=   0.9s\n",
            "[CV] criterion=entropy, min_samples_leaf=30, splitter=random .........\n",
            "[CV]  criterion=entropy, min_samples_leaf=30, splitter=random, score=0.894, total=   0.9s\n",
            "[CV] criterion=entropy, min_samples_leaf=30, splitter=random .........\n",
            "[CV]  criterion=entropy, min_samples_leaf=30, splitter=random, score=0.892, total=   0.9s\n",
            "[CV] criterion=entropy, min_samples_leaf=30, splitter=random .........\n",
            "[CV]  criterion=entropy, min_samples_leaf=30, splitter=random, score=0.883, total=   0.9s\n",
            "[CV] criterion=entropy, min_samples_leaf=30, splitter=random .........\n",
            "[CV]  criterion=entropy, min_samples_leaf=30, splitter=random, score=0.894, total=   0.9s\n",
            "[CV] criterion=entropy, min_samples_leaf=30, splitter=random .........\n",
            "[CV]  criterion=entropy, min_samples_leaf=30, splitter=random, score=0.892, total=   0.9s\n",
            "[CV] criterion=entropy, min_samples_leaf=30, splitter=random .........\n",
            "[CV]  criterion=entropy, min_samples_leaf=30, splitter=random, score=0.892, total=   0.9s\n",
            "[CV] criterion=entropy, min_samples_leaf=30, splitter=random .........\n",
            "[CV]  criterion=entropy, min_samples_leaf=30, splitter=random, score=0.900, total=   0.9s\n",
            "[CV] criterion=entropy, min_samples_leaf=30, splitter=random .........\n",
            "[CV]  criterion=entropy, min_samples_leaf=30, splitter=random, score=0.889, total=   0.9s\n",
            "[CV] criterion=entropy, min_samples_leaf=60, splitter=random .........\n",
            "[CV]  criterion=entropy, min_samples_leaf=60, splitter=random, score=0.890, total=   0.9s\n",
            "[CV] criterion=entropy, min_samples_leaf=60, splitter=random .........\n",
            "[CV]  criterion=entropy, min_samples_leaf=60, splitter=random, score=0.894, total=   0.9s\n",
            "[CV] criterion=entropy, min_samples_leaf=60, splitter=random .........\n",
            "[CV]  criterion=entropy, min_samples_leaf=60, splitter=random, score=0.894, total=   0.8s\n",
            "[CV] criterion=entropy, min_samples_leaf=60, splitter=random .........\n",
            "[CV]  criterion=entropy, min_samples_leaf=60, splitter=random, score=0.894, total=   0.9s\n",
            "[CV] criterion=entropy, min_samples_leaf=60, splitter=random .........\n",
            "[CV]  criterion=entropy, min_samples_leaf=60, splitter=random, score=0.889, total=   0.9s\n",
            "[CV] criterion=entropy, min_samples_leaf=60, splitter=random .........\n",
            "[CV]  criterion=entropy, min_samples_leaf=60, splitter=random, score=0.894, total=   0.9s\n",
            "[CV] criterion=entropy, min_samples_leaf=60, splitter=random .........\n",
            "[CV]  criterion=entropy, min_samples_leaf=60, splitter=random, score=0.892, total=   0.9s\n",
            "[CV] criterion=entropy, min_samples_leaf=60, splitter=random .........\n",
            "[CV]  criterion=entropy, min_samples_leaf=60, splitter=random, score=0.892, total=   0.8s\n",
            "[CV] criterion=entropy, min_samples_leaf=60, splitter=random .........\n",
            "[CV]  criterion=entropy, min_samples_leaf=60, splitter=random, score=0.900, total=   0.9s\n",
            "[CV] criterion=entropy, min_samples_leaf=60, splitter=random .........\n",
            "[CV]  criterion=entropy, min_samples_leaf=60, splitter=random, score=0.892, total=   0.9s\n"
          ]
        },
        {
          "output_type": "stream",
          "name": "stderr",
          "text": [
            "[Parallel(n_jobs=1)]: Done  40 out of  40 | elapsed:   37.0s finished\n"
          ]
        },
        {
          "output_type": "stream",
          "name": "stdout",
          "text": [
            "{'criterion': 'gini', 'min_samples_leaf': 60, 'splitter': 'random'}\n"
          ]
        }
      ]
    },
    {
      "cell_type": "code",
      "metadata": {
        "id": "a1-Jr3khQkjW"
      },
      "source": [
        "#Using the parameters obtained from HyperParameterTuning in the DecisionTreeClassifier\n",
        "#Construct Decision Trees using the best parameters\n",
        "clf = DecisionTreeClassifier(**grid_parm)\n",
        "clfr = DecisionTreeClassifier(**grid_parm1)\n",
        "\n",
        "clf.fit(X_train,y_train)\n",
        "clf_predict = clf.predict(X_test)\n",
        "clfr.fit(X_train,y_train)\n",
        "clfr_predict = clfr.predict(X_test)\n"
      ],
      "execution_count": 18,
      "outputs": []
    },
    {
      "cell_type": "code",
      "metadata": {
        "colab": {
          "base_uri": "https://localhost:8080/"
        },
        "id": "HQuXvyfFQmuF",
        "outputId": "7a6243dc-506b-43c4-b798-d9929e02ec40"
      },
      "source": [
        "#Obtain accuracy ,confusion matrix,classification report and AUC values for the result above.\n",
        "print(\"accuracy Score (testset) after hypertuning randomized search for Decision Tree:{0:6f}\".format(clf.score(X_test,y_test)))\n",
        "\n",
        "print(\"accuracy Score (testset) after hypertuning grid search for Decision Tree:{0:6f}\".format(clfr.score(X_test,y_test)))\n",
        "print(\"Confusion Matrix after hypertuning for Decision Tree\")\n",
        "print(confusion_matrix(y_test,clf_predict))\n",
        "print(\"=== Classification Report ===\")\n",
        "print(classification_report(y_test,clf_predict))"
      ],
      "execution_count": 19,
      "outputs": [
        {
          "output_type": "stream",
          "name": "stdout",
          "text": [
            "accuracy Score (testset) after hypertuning randomized search for Decision Tree:0.883015\n",
            "accuracy Score (testset) after hypertuning grid search for Decision Tree:0.892858\n",
            "Confusion Matrix after hypertuning for Decision Tree\n",
            "[[39922     0]\n",
            " [ 5289     0]]\n",
            "=== Classification Report ===\n",
            "              precision    recall  f1-score   support\n",
            "\n",
            "          no       0.88      1.00      0.94     39922\n",
            "         yes       0.00      0.00      0.00      5289\n",
            "\n",
            "    accuracy                           0.88     45211\n",
            "   macro avg       0.44      0.50      0.47     45211\n",
            "weighted avg       0.78      0.88      0.83     45211\n",
            "\n"
          ]
        }
      ]
    },
    {
      "cell_type": "code",
      "metadata": {
        "colab": {
          "base_uri": "https://localhost:8080/"
        },
        "id": "UGPZUKFHQoey",
        "outputId": "835a2b94-dd46-4899-8b66-90373404be9f"
      },
      "source": [
        "#cross validation using decision tree model\n",
        "clf_cv_score = cross_val_score(clf, X_train, y_train, cv=10, \n",
        "                               verbose=8, scoring=\"balanced_accuracy\")\n",
        "print(clf_cv_score)\n",
        "print('\\n')"
      ],
      "execution_count": 20,
      "outputs": [
        {
          "output_type": "stream",
          "name": "stderr",
          "text": [
            "[Parallel(n_jobs=1)]: Using backend SequentialBackend with 1 concurrent workers.\n"
          ]
        },
        {
          "output_type": "stream",
          "name": "stdout",
          "text": [
            "[CV]  ................................................................\n",
            "[CV] .................................... , score=0.500, total=   0.9s\n",
            "[CV]  ................................................................\n"
          ]
        },
        {
          "output_type": "stream",
          "name": "stderr",
          "text": [
            "[Parallel(n_jobs=1)]: Done   1 out of   1 | elapsed:    1.0s remaining:    0.0s\n"
          ]
        },
        {
          "output_type": "stream",
          "name": "stdout",
          "text": [
            "[CV] .................................... , score=0.500, total=   1.0s\n",
            "[CV]  ................................................................\n"
          ]
        },
        {
          "output_type": "stream",
          "name": "stderr",
          "text": [
            "[Parallel(n_jobs=1)]: Done   2 out of   2 | elapsed:    1.9s remaining:    0.0s\n"
          ]
        },
        {
          "output_type": "stream",
          "name": "stdout",
          "text": [
            "[CV] .................................... , score=0.500, total=   0.9s\n",
            "[CV]  ................................................................\n"
          ]
        },
        {
          "output_type": "stream",
          "name": "stderr",
          "text": [
            "[Parallel(n_jobs=1)]: Done   3 out of   3 | elapsed:    2.8s remaining:    0.0s\n"
          ]
        },
        {
          "output_type": "stream",
          "name": "stdout",
          "text": [
            "[CV] .................................... , score=0.500, total=   1.0s\n",
            "[CV]  ................................................................\n"
          ]
        },
        {
          "output_type": "stream",
          "name": "stderr",
          "text": [
            "[Parallel(n_jobs=1)]: Done   4 out of   4 | elapsed:    3.8s remaining:    0.0s\n"
          ]
        },
        {
          "output_type": "stream",
          "name": "stdout",
          "text": [
            "[CV] .................................... , score=0.500, total=   0.9s\n",
            "[CV]  ................................................................\n"
          ]
        },
        {
          "output_type": "stream",
          "name": "stderr",
          "text": [
            "[Parallel(n_jobs=1)]: Done   5 out of   5 | elapsed:    4.7s remaining:    0.0s\n"
          ]
        },
        {
          "output_type": "stream",
          "name": "stdout",
          "text": [
            "[CV] .................................... , score=0.500, total=   0.9s\n",
            "[CV]  ................................................................\n"
          ]
        },
        {
          "output_type": "stream",
          "name": "stderr",
          "text": [
            "[Parallel(n_jobs=1)]: Done   6 out of   6 | elapsed:    5.7s remaining:    0.0s\n"
          ]
        },
        {
          "output_type": "stream",
          "name": "stdout",
          "text": [
            "[CV] .................................... , score=0.500, total=   0.9s\n",
            "[CV]  ................................................................\n"
          ]
        },
        {
          "output_type": "stream",
          "name": "stderr",
          "text": [
            "[Parallel(n_jobs=1)]: Done   7 out of   7 | elapsed:    6.6s remaining:    0.0s\n"
          ]
        },
        {
          "output_type": "stream",
          "name": "stdout",
          "text": [
            "[CV] .................................... , score=0.500, total=   0.9s\n",
            "[CV]  ................................................................\n",
            "[CV] .................................... , score=0.500, total=   0.9s\n",
            "[CV]  ................................................................\n",
            "[CV] .................................... , score=0.500, total=   0.9s\n",
            "[0.5 0.5 0.5 0.5 0.5 0.5 0.5 0.5 0.5 0.5]\n",
            "\n",
            "\n"
          ]
        },
        {
          "output_type": "stream",
          "name": "stderr",
          "text": [
            "[Parallel(n_jobs=1)]: Done  10 out of  10 | elapsed:    9.3s finished\n"
          ]
        }
      ]
    },
    {
      "cell_type": "markdown",
      "metadata": {
        "id": "RM_vWA8BSP36"
      },
      "source": [
        "###Decision Tree Hyperparameter Tuning 3\n"
      ]
    },
    {
      "cell_type": "code",
      "metadata": {
        "colab": {
          "base_uri": "https://localhost:8080/"
        },
        "id": "7T1Apax2SUav",
        "outputId": "c71891a5-924f-48de-856a-240ae8614715"
      },
      "source": [
        "#Hyperparameter tuning done for decision tree classifier\n",
        "\n",
        "#do random search\n",
        "print(\"RandomizedSearchCV-Decision tree\")\n",
        "parameters={'min_samples_split' : range(10,1000,10),'max_depth': range(25,100,25),'criterion':['entropy'], 'max_leaf_nodes' : range( 20,300,20)}\n",
        "clf_random = RandomizedSearchCV(clf,parameters,n_iter=20,cv=5)\n",
        "clf_random.fit(X_train, y_train)\n",
        "grid_parm=clf_random.best_params_\n",
        "print(grid_parm)"
      ],
      "execution_count": 25,
      "outputs": [
        {
          "output_type": "stream",
          "name": "stdout",
          "text": [
            "RandomizedSearchCV-Decision tree\n",
            "{'min_samples_split': 990, 'max_leaf_nodes': 60, 'max_depth': 25, 'criterion': 'entropy'}\n"
          ]
        }
      ]
    },
    {
      "cell_type": "code",
      "metadata": {
        "colab": {
          "base_uri": "https://localhost:8080/"
        },
        "id": "0iRS7hgHSVAK",
        "outputId": "6b155303-e526-4eb6-de0a-4e3b161045fe"
      },
      "source": [
        "#Now do grid search\n",
        "print(\"GridSearchCV-Decision tree\")\n",
        "parameters2={'min_samples_leaf' : range(30,500,30),'criterion':['gini'], 'splitter':['best'], 'max_leaf_nodes' : range( 20,100,20)}\n",
        "clf_grid = GridSearchCV(clf, parameters2, cv=2, verbose=7)\n",
        "clf_grid.fit(X_train, y_train)\n",
        "grid_parm1=clf_grid.best_params_\n",
        "print(grid_parm1)"
      ],
      "execution_count": 27,
      "outputs": [
        {
          "output_type": "stream",
          "name": "stdout",
          "text": [
            "GridSearchCV-Decision tree\n",
            "Fitting 2 folds for each of 64 candidates, totalling 128 fits\n",
            "[CV] criterion=gini, max_leaf_nodes=20, min_samples_leaf=30, splitter=best \n"
          ]
        },
        {
          "output_type": "stream",
          "name": "stderr",
          "text": [
            "[Parallel(n_jobs=1)]: Using backend SequentialBackend with 1 concurrent workers.\n"
          ]
        },
        {
          "output_type": "stream",
          "name": "stdout",
          "text": [
            "[CV]  criterion=gini, max_leaf_nodes=20, min_samples_leaf=30, splitter=best, score=0.887, total=   1.3s\n",
            "[CV] criterion=gini, max_leaf_nodes=20, min_samples_leaf=30, splitter=best \n"
          ]
        },
        {
          "output_type": "stream",
          "name": "stderr",
          "text": [
            "[Parallel(n_jobs=1)]: Done   1 out of   1 | elapsed:    1.3s remaining:    0.0s\n"
          ]
        },
        {
          "output_type": "stream",
          "name": "stdout",
          "text": [
            "[CV]  criterion=gini, max_leaf_nodes=20, min_samples_leaf=30, splitter=best, score=0.894, total=   1.5s\n",
            "[CV] criterion=gini, max_leaf_nodes=20, min_samples_leaf=60, splitter=best \n"
          ]
        },
        {
          "output_type": "stream",
          "name": "stderr",
          "text": [
            "[Parallel(n_jobs=1)]: Done   2 out of   2 | elapsed:    2.8s remaining:    0.0s\n"
          ]
        },
        {
          "output_type": "stream",
          "name": "stdout",
          "text": [
            "[CV]  criterion=gini, max_leaf_nodes=20, min_samples_leaf=60, splitter=best, score=0.892, total=   1.4s\n",
            "[CV] criterion=gini, max_leaf_nodes=20, min_samples_leaf=60, splitter=best \n"
          ]
        },
        {
          "output_type": "stream",
          "name": "stderr",
          "text": [
            "[Parallel(n_jobs=1)]: Done   3 out of   3 | elapsed:    4.2s remaining:    0.0s\n"
          ]
        },
        {
          "output_type": "stream",
          "name": "stdout",
          "text": [
            "[CV]  criterion=gini, max_leaf_nodes=20, min_samples_leaf=60, splitter=best, score=0.894, total=   1.2s\n",
            "[CV] criterion=gini, max_leaf_nodes=20, min_samples_leaf=90, splitter=best \n"
          ]
        },
        {
          "output_type": "stream",
          "name": "stderr",
          "text": [
            "[Parallel(n_jobs=1)]: Done   4 out of   4 | elapsed:    5.4s remaining:    0.0s\n"
          ]
        },
        {
          "output_type": "stream",
          "name": "stdout",
          "text": [
            "[CV]  criterion=gini, max_leaf_nodes=20, min_samples_leaf=90, splitter=best, score=0.885, total=   1.0s\n",
            "[CV] criterion=gini, max_leaf_nodes=20, min_samples_leaf=90, splitter=best \n"
          ]
        },
        {
          "output_type": "stream",
          "name": "stderr",
          "text": [
            "[Parallel(n_jobs=1)]: Done   5 out of   5 | elapsed:    6.4s remaining:    0.0s\n"
          ]
        },
        {
          "output_type": "stream",
          "name": "stdout",
          "text": [
            "[CV]  criterion=gini, max_leaf_nodes=20, min_samples_leaf=90, splitter=best, score=0.885, total=   1.0s\n",
            "[CV] criterion=gini, max_leaf_nodes=20, min_samples_leaf=120, splitter=best \n"
          ]
        },
        {
          "output_type": "stream",
          "name": "stderr",
          "text": [
            "[Parallel(n_jobs=1)]: Done   6 out of   6 | elapsed:    7.4s remaining:    0.0s\n"
          ]
        },
        {
          "output_type": "stream",
          "name": "stdout",
          "text": [
            "[CV]  criterion=gini, max_leaf_nodes=20, min_samples_leaf=120, splitter=best, score=0.885, total=   0.9s\n",
            "[CV] criterion=gini, max_leaf_nodes=20, min_samples_leaf=120, splitter=best \n",
            "[CV]  criterion=gini, max_leaf_nodes=20, min_samples_leaf=120, splitter=best, score=0.885, total=   0.9s\n",
            "[CV] criterion=gini, max_leaf_nodes=20, min_samples_leaf=150, splitter=best \n",
            "[CV]  criterion=gini, max_leaf_nodes=20, min_samples_leaf=150, splitter=best, score=0.885, total=   0.9s\n",
            "[CV] criterion=gini, max_leaf_nodes=20, min_samples_leaf=150, splitter=best \n",
            "[CV]  criterion=gini, max_leaf_nodes=20, min_samples_leaf=150, splitter=best, score=0.885, total=   0.9s\n",
            "[CV] criterion=gini, max_leaf_nodes=20, min_samples_leaf=180, splitter=best \n",
            "[CV]  criterion=gini, max_leaf_nodes=20, min_samples_leaf=180, splitter=best, score=0.885, total=   0.8s\n",
            "[CV] criterion=gini, max_leaf_nodes=20, min_samples_leaf=180, splitter=best \n",
            "[CV]  criterion=gini, max_leaf_nodes=20, min_samples_leaf=180, splitter=best, score=0.885, total=   0.9s\n",
            "[CV] criterion=gini, max_leaf_nodes=20, min_samples_leaf=210, splitter=best \n",
            "[CV]  criterion=gini, max_leaf_nodes=20, min_samples_leaf=210, splitter=best, score=0.885, total=   0.8s\n",
            "[CV] criterion=gini, max_leaf_nodes=20, min_samples_leaf=210, splitter=best \n",
            "[CV]  criterion=gini, max_leaf_nodes=20, min_samples_leaf=210, splitter=best, score=0.885, total=   0.8s\n",
            "[CV] criterion=gini, max_leaf_nodes=20, min_samples_leaf=240, splitter=best \n",
            "[CV]  criterion=gini, max_leaf_nodes=20, min_samples_leaf=240, splitter=best, score=0.885, total=   0.8s\n",
            "[CV] criterion=gini, max_leaf_nodes=20, min_samples_leaf=240, splitter=best \n",
            "[CV]  criterion=gini, max_leaf_nodes=20, min_samples_leaf=240, splitter=best, score=0.885, total=   0.8s\n",
            "[CV] criterion=gini, max_leaf_nodes=20, min_samples_leaf=270, splitter=best \n",
            "[CV]  criterion=gini, max_leaf_nodes=20, min_samples_leaf=270, splitter=best, score=0.885, total=   0.8s\n",
            "[CV] criterion=gini, max_leaf_nodes=20, min_samples_leaf=270, splitter=best \n",
            "[CV]  criterion=gini, max_leaf_nodes=20, min_samples_leaf=270, splitter=best, score=0.885, total=   0.7s\n",
            "[CV] criterion=gini, max_leaf_nodes=20, min_samples_leaf=300, splitter=best \n",
            "[CV]  criterion=gini, max_leaf_nodes=20, min_samples_leaf=300, splitter=best, score=0.885, total=   0.7s\n",
            "[CV] criterion=gini, max_leaf_nodes=20, min_samples_leaf=300, splitter=best \n",
            "[CV]  criterion=gini, max_leaf_nodes=20, min_samples_leaf=300, splitter=best, score=0.885, total=   0.7s\n",
            "[CV] criterion=gini, max_leaf_nodes=20, min_samples_leaf=330, splitter=best \n",
            "[CV]  criterion=gini, max_leaf_nodes=20, min_samples_leaf=330, splitter=best, score=0.885, total=   0.7s\n",
            "[CV] criterion=gini, max_leaf_nodes=20, min_samples_leaf=330, splitter=best \n",
            "[CV]  criterion=gini, max_leaf_nodes=20, min_samples_leaf=330, splitter=best, score=0.885, total=   0.7s\n",
            "[CV] criterion=gini, max_leaf_nodes=20, min_samples_leaf=360, splitter=best \n",
            "[CV]  criterion=gini, max_leaf_nodes=20, min_samples_leaf=360, splitter=best, score=0.885, total=   0.7s\n",
            "[CV] criterion=gini, max_leaf_nodes=20, min_samples_leaf=360, splitter=best \n",
            "[CV]  criterion=gini, max_leaf_nodes=20, min_samples_leaf=360, splitter=best, score=0.885, total=   0.7s\n",
            "[CV] criterion=gini, max_leaf_nodes=20, min_samples_leaf=390, splitter=best \n",
            "[CV]  criterion=gini, max_leaf_nodes=20, min_samples_leaf=390, splitter=best, score=0.885, total=   0.7s\n",
            "[CV] criterion=gini, max_leaf_nodes=20, min_samples_leaf=390, splitter=best \n",
            "[CV]  criterion=gini, max_leaf_nodes=20, min_samples_leaf=390, splitter=best, score=0.885, total=   0.7s\n",
            "[CV] criterion=gini, max_leaf_nodes=20, min_samples_leaf=420, splitter=best \n",
            "[CV]  criterion=gini, max_leaf_nodes=20, min_samples_leaf=420, splitter=best, score=0.885, total=   0.7s\n",
            "[CV] criterion=gini, max_leaf_nodes=20, min_samples_leaf=420, splitter=best \n",
            "[CV]  criterion=gini, max_leaf_nodes=20, min_samples_leaf=420, splitter=best, score=0.885, total=   0.6s\n",
            "[CV] criterion=gini, max_leaf_nodes=20, min_samples_leaf=450, splitter=best \n",
            "[CV]  criterion=gini, max_leaf_nodes=20, min_samples_leaf=450, splitter=best, score=0.885, total=   0.6s\n",
            "[CV] criterion=gini, max_leaf_nodes=20, min_samples_leaf=450, splitter=best \n",
            "[CV]  criterion=gini, max_leaf_nodes=20, min_samples_leaf=450, splitter=best, score=0.885, total=   0.6s\n",
            "[CV] criterion=gini, max_leaf_nodes=20, min_samples_leaf=480, splitter=best \n",
            "[CV]  criterion=gini, max_leaf_nodes=20, min_samples_leaf=480, splitter=best, score=0.885, total=   0.7s\n",
            "[CV] criterion=gini, max_leaf_nodes=20, min_samples_leaf=480, splitter=best \n",
            "[CV]  criterion=gini, max_leaf_nodes=20, min_samples_leaf=480, splitter=best, score=0.885, total=   0.6s\n",
            "[CV] criterion=gini, max_leaf_nodes=40, min_samples_leaf=30, splitter=best \n",
            "[CV]  criterion=gini, max_leaf_nodes=40, min_samples_leaf=30, splitter=best, score=0.887, total=   1.6s\n",
            "[CV] criterion=gini, max_leaf_nodes=40, min_samples_leaf=30, splitter=best \n",
            "[CV]  criterion=gini, max_leaf_nodes=40, min_samples_leaf=30, splitter=best, score=0.894, total=   1.6s\n",
            "[CV] criterion=gini, max_leaf_nodes=40, min_samples_leaf=60, splitter=best \n",
            "[CV]  criterion=gini, max_leaf_nodes=40, min_samples_leaf=60, splitter=best, score=0.892, total=   1.3s\n",
            "[CV] criterion=gini, max_leaf_nodes=40, min_samples_leaf=60, splitter=best \n",
            "[CV]  criterion=gini, max_leaf_nodes=40, min_samples_leaf=60, splitter=best, score=0.894, total=   1.5s\n",
            "[CV] criterion=gini, max_leaf_nodes=40, min_samples_leaf=90, splitter=best \n",
            "[CV]  criterion=gini, max_leaf_nodes=40, min_samples_leaf=90, splitter=best, score=0.885, total=   1.1s\n",
            "[CV] criterion=gini, max_leaf_nodes=40, min_samples_leaf=90, splitter=best \n",
            "[CV]  criterion=gini, max_leaf_nodes=40, min_samples_leaf=90, splitter=best, score=0.885, total=   1.0s\n",
            "[CV] criterion=gini, max_leaf_nodes=40, min_samples_leaf=120, splitter=best \n",
            "[CV]  criterion=gini, max_leaf_nodes=40, min_samples_leaf=120, splitter=best, score=0.885, total=   0.9s\n",
            "[CV] criterion=gini, max_leaf_nodes=40, min_samples_leaf=120, splitter=best \n",
            "[CV]  criterion=gini, max_leaf_nodes=40, min_samples_leaf=120, splitter=best, score=0.885, total=   0.9s\n",
            "[CV] criterion=gini, max_leaf_nodes=40, min_samples_leaf=150, splitter=best \n",
            "[CV]  criterion=gini, max_leaf_nodes=40, min_samples_leaf=150, splitter=best, score=0.885, total=   0.9s\n",
            "[CV] criterion=gini, max_leaf_nodes=40, min_samples_leaf=150, splitter=best \n",
            "[CV]  criterion=gini, max_leaf_nodes=40, min_samples_leaf=150, splitter=best, score=0.885, total=   0.9s\n",
            "[CV] criterion=gini, max_leaf_nodes=40, min_samples_leaf=180, splitter=best \n",
            "[CV]  criterion=gini, max_leaf_nodes=40, min_samples_leaf=180, splitter=best, score=0.885, total=   0.8s\n",
            "[CV] criterion=gini, max_leaf_nodes=40, min_samples_leaf=180, splitter=best \n",
            "[CV]  criterion=gini, max_leaf_nodes=40, min_samples_leaf=180, splitter=best, score=0.885, total=   0.9s\n",
            "[CV] criterion=gini, max_leaf_nodes=40, min_samples_leaf=210, splitter=best \n",
            "[CV]  criterion=gini, max_leaf_nodes=40, min_samples_leaf=210, splitter=best, score=0.885, total=   0.8s\n",
            "[CV] criterion=gini, max_leaf_nodes=40, min_samples_leaf=210, splitter=best \n",
            "[CV]  criterion=gini, max_leaf_nodes=40, min_samples_leaf=210, splitter=best, score=0.885, total=   0.7s\n",
            "[CV] criterion=gini, max_leaf_nodes=40, min_samples_leaf=240, splitter=best \n",
            "[CV]  criterion=gini, max_leaf_nodes=40, min_samples_leaf=240, splitter=best, score=0.885, total=   0.8s\n",
            "[CV] criterion=gini, max_leaf_nodes=40, min_samples_leaf=240, splitter=best \n",
            "[CV]  criterion=gini, max_leaf_nodes=40, min_samples_leaf=240, splitter=best, score=0.885, total=   0.8s\n",
            "[CV] criterion=gini, max_leaf_nodes=40, min_samples_leaf=270, splitter=best \n",
            "[CV]  criterion=gini, max_leaf_nodes=40, min_samples_leaf=270, splitter=best, score=0.885, total=   0.8s\n",
            "[CV] criterion=gini, max_leaf_nodes=40, min_samples_leaf=270, splitter=best \n",
            "[CV]  criterion=gini, max_leaf_nodes=40, min_samples_leaf=270, splitter=best, score=0.885, total=   0.7s\n",
            "[CV] criterion=gini, max_leaf_nodes=40, min_samples_leaf=300, splitter=best \n",
            "[CV]  criterion=gini, max_leaf_nodes=40, min_samples_leaf=300, splitter=best, score=0.885, total=   0.7s\n",
            "[CV] criterion=gini, max_leaf_nodes=40, min_samples_leaf=300, splitter=best \n",
            "[CV]  criterion=gini, max_leaf_nodes=40, min_samples_leaf=300, splitter=best, score=0.885, total=   0.7s\n",
            "[CV] criterion=gini, max_leaf_nodes=40, min_samples_leaf=330, splitter=best \n",
            "[CV]  criterion=gini, max_leaf_nodes=40, min_samples_leaf=330, splitter=best, score=0.885, total=   0.7s\n",
            "[CV] criterion=gini, max_leaf_nodes=40, min_samples_leaf=330, splitter=best \n",
            "[CV]  criterion=gini, max_leaf_nodes=40, min_samples_leaf=330, splitter=best, score=0.885, total=   0.7s\n",
            "[CV] criterion=gini, max_leaf_nodes=40, min_samples_leaf=360, splitter=best \n",
            "[CV]  criterion=gini, max_leaf_nodes=40, min_samples_leaf=360, splitter=best, score=0.885, total=   0.7s\n",
            "[CV] criterion=gini, max_leaf_nodes=40, min_samples_leaf=360, splitter=best \n",
            "[CV]  criterion=gini, max_leaf_nodes=40, min_samples_leaf=360, splitter=best, score=0.885, total=   0.7s\n",
            "[CV] criterion=gini, max_leaf_nodes=40, min_samples_leaf=390, splitter=best \n",
            "[CV]  criterion=gini, max_leaf_nodes=40, min_samples_leaf=390, splitter=best, score=0.885, total=   0.7s\n",
            "[CV] criterion=gini, max_leaf_nodes=40, min_samples_leaf=390, splitter=best \n",
            "[CV]  criterion=gini, max_leaf_nodes=40, min_samples_leaf=390, splitter=best, score=0.885, total=   0.7s\n",
            "[CV] criterion=gini, max_leaf_nodes=40, min_samples_leaf=420, splitter=best \n",
            "[CV]  criterion=gini, max_leaf_nodes=40, min_samples_leaf=420, splitter=best, score=0.885, total=   0.7s\n",
            "[CV] criterion=gini, max_leaf_nodes=40, min_samples_leaf=420, splitter=best \n",
            "[CV]  criterion=gini, max_leaf_nodes=40, min_samples_leaf=420, splitter=best, score=0.885, total=   0.7s\n",
            "[CV] criterion=gini, max_leaf_nodes=40, min_samples_leaf=450, splitter=best \n",
            "[CV]  criterion=gini, max_leaf_nodes=40, min_samples_leaf=450, splitter=best, score=0.885, total=   0.7s\n",
            "[CV] criterion=gini, max_leaf_nodes=40, min_samples_leaf=450, splitter=best \n",
            "[CV]  criterion=gini, max_leaf_nodes=40, min_samples_leaf=450, splitter=best, score=0.885, total=   0.7s\n",
            "[CV] criterion=gini, max_leaf_nodes=40, min_samples_leaf=480, splitter=best \n",
            "[CV]  criterion=gini, max_leaf_nodes=40, min_samples_leaf=480, splitter=best, score=0.885, total=   0.7s\n",
            "[CV] criterion=gini, max_leaf_nodes=40, min_samples_leaf=480, splitter=best \n",
            "[CV]  criterion=gini, max_leaf_nodes=40, min_samples_leaf=480, splitter=best, score=0.885, total=   0.6s\n",
            "[CV] criterion=gini, max_leaf_nodes=60, min_samples_leaf=30, splitter=best \n",
            "[CV]  criterion=gini, max_leaf_nodes=60, min_samples_leaf=30, splitter=best, score=0.887, total=   1.6s\n",
            "[CV] criterion=gini, max_leaf_nodes=60, min_samples_leaf=30, splitter=best \n",
            "[CV]  criterion=gini, max_leaf_nodes=60, min_samples_leaf=30, splitter=best, score=0.894, total=   1.6s\n",
            "[CV] criterion=gini, max_leaf_nodes=60, min_samples_leaf=60, splitter=best \n",
            "[CV]  criterion=gini, max_leaf_nodes=60, min_samples_leaf=60, splitter=best, score=0.892, total=   1.3s\n",
            "[CV] criterion=gini, max_leaf_nodes=60, min_samples_leaf=60, splitter=best \n",
            "[CV]  criterion=gini, max_leaf_nodes=60, min_samples_leaf=60, splitter=best, score=0.894, total=   1.3s\n",
            "[CV] criterion=gini, max_leaf_nodes=60, min_samples_leaf=90, splitter=best \n",
            "[CV]  criterion=gini, max_leaf_nodes=60, min_samples_leaf=90, splitter=best, score=0.885, total=   1.0s\n",
            "[CV] criterion=gini, max_leaf_nodes=60, min_samples_leaf=90, splitter=best \n",
            "[CV]  criterion=gini, max_leaf_nodes=60, min_samples_leaf=90, splitter=best, score=0.885, total=   1.1s\n",
            "[CV] criterion=gini, max_leaf_nodes=60, min_samples_leaf=120, splitter=best \n",
            "[CV]  criterion=gini, max_leaf_nodes=60, min_samples_leaf=120, splitter=best, score=0.885, total=   1.0s\n",
            "[CV] criterion=gini, max_leaf_nodes=60, min_samples_leaf=120, splitter=best \n",
            "[CV]  criterion=gini, max_leaf_nodes=60, min_samples_leaf=120, splitter=best, score=0.885, total=   0.9s\n",
            "[CV] criterion=gini, max_leaf_nodes=60, min_samples_leaf=150, splitter=best \n",
            "[CV]  criterion=gini, max_leaf_nodes=60, min_samples_leaf=150, splitter=best, score=0.885, total=   0.9s\n",
            "[CV] criterion=gini, max_leaf_nodes=60, min_samples_leaf=150, splitter=best \n",
            "[CV]  criterion=gini, max_leaf_nodes=60, min_samples_leaf=150, splitter=best, score=0.885, total=   0.9s\n",
            "[CV] criterion=gini, max_leaf_nodes=60, min_samples_leaf=180, splitter=best \n",
            "[CV]  criterion=gini, max_leaf_nodes=60, min_samples_leaf=180, splitter=best, score=0.885, total=   0.8s\n",
            "[CV] criterion=gini, max_leaf_nodes=60, min_samples_leaf=180, splitter=best \n",
            "[CV]  criterion=gini, max_leaf_nodes=60, min_samples_leaf=180, splitter=best, score=0.885, total=   0.8s\n",
            "[CV] criterion=gini, max_leaf_nodes=60, min_samples_leaf=210, splitter=best \n",
            "[CV]  criterion=gini, max_leaf_nodes=60, min_samples_leaf=210, splitter=best, score=0.885, total=   0.8s\n",
            "[CV] criterion=gini, max_leaf_nodes=60, min_samples_leaf=210, splitter=best \n",
            "[CV]  criterion=gini, max_leaf_nodes=60, min_samples_leaf=210, splitter=best, score=0.885, total=   0.8s\n",
            "[CV] criterion=gini, max_leaf_nodes=60, min_samples_leaf=240, splitter=best \n",
            "[CV]  criterion=gini, max_leaf_nodes=60, min_samples_leaf=240, splitter=best, score=0.885, total=   0.8s\n",
            "[CV] criterion=gini, max_leaf_nodes=60, min_samples_leaf=240, splitter=best \n",
            "[CV]  criterion=gini, max_leaf_nodes=60, min_samples_leaf=240, splitter=best, score=0.885, total=   0.8s\n",
            "[CV] criterion=gini, max_leaf_nodes=60, min_samples_leaf=270, splitter=best \n",
            "[CV]  criterion=gini, max_leaf_nodes=60, min_samples_leaf=270, splitter=best, score=0.885, total=   0.8s\n",
            "[CV] criterion=gini, max_leaf_nodes=60, min_samples_leaf=270, splitter=best \n",
            "[CV]  criterion=gini, max_leaf_nodes=60, min_samples_leaf=270, splitter=best, score=0.885, total=   0.8s\n",
            "[CV] criterion=gini, max_leaf_nodes=60, min_samples_leaf=300, splitter=best \n",
            "[CV]  criterion=gini, max_leaf_nodes=60, min_samples_leaf=300, splitter=best, score=0.885, total=   0.8s\n",
            "[CV] criterion=gini, max_leaf_nodes=60, min_samples_leaf=300, splitter=best \n",
            "[CV]  criterion=gini, max_leaf_nodes=60, min_samples_leaf=300, splitter=best, score=0.885, total=   0.8s\n",
            "[CV] criterion=gini, max_leaf_nodes=60, min_samples_leaf=330, splitter=best \n",
            "[CV]  criterion=gini, max_leaf_nodes=60, min_samples_leaf=330, splitter=best, score=0.885, total=   0.7s\n",
            "[CV] criterion=gini, max_leaf_nodes=60, min_samples_leaf=330, splitter=best \n",
            "[CV]  criterion=gini, max_leaf_nodes=60, min_samples_leaf=330, splitter=best, score=0.885, total=   0.7s\n",
            "[CV] criterion=gini, max_leaf_nodes=60, min_samples_leaf=360, splitter=best \n",
            "[CV]  criterion=gini, max_leaf_nodes=60, min_samples_leaf=360, splitter=best, score=0.885, total=   0.7s\n",
            "[CV] criterion=gini, max_leaf_nodes=60, min_samples_leaf=360, splitter=best \n",
            "[CV]  criterion=gini, max_leaf_nodes=60, min_samples_leaf=360, splitter=best, score=0.885, total=   0.7s\n",
            "[CV] criterion=gini, max_leaf_nodes=60, min_samples_leaf=390, splitter=best \n",
            "[CV]  criterion=gini, max_leaf_nodes=60, min_samples_leaf=390, splitter=best, score=0.885, total=   0.7s\n",
            "[CV] criterion=gini, max_leaf_nodes=60, min_samples_leaf=390, splitter=best \n",
            "[CV]  criterion=gini, max_leaf_nodes=60, min_samples_leaf=390, splitter=best, score=0.885, total=   0.7s\n",
            "[CV] criterion=gini, max_leaf_nodes=60, min_samples_leaf=420, splitter=best \n",
            "[CV]  criterion=gini, max_leaf_nodes=60, min_samples_leaf=420, splitter=best, score=0.885, total=   0.6s\n",
            "[CV] criterion=gini, max_leaf_nodes=60, min_samples_leaf=420, splitter=best \n",
            "[CV]  criterion=gini, max_leaf_nodes=60, min_samples_leaf=420, splitter=best, score=0.885, total=   0.6s\n",
            "[CV] criterion=gini, max_leaf_nodes=60, min_samples_leaf=450, splitter=best \n",
            "[CV]  criterion=gini, max_leaf_nodes=60, min_samples_leaf=450, splitter=best, score=0.885, total=   0.7s\n",
            "[CV] criterion=gini, max_leaf_nodes=60, min_samples_leaf=450, splitter=best \n",
            "[CV]  criterion=gini, max_leaf_nodes=60, min_samples_leaf=450, splitter=best, score=0.885, total=   0.6s\n",
            "[CV] criterion=gini, max_leaf_nodes=60, min_samples_leaf=480, splitter=best \n",
            "[CV]  criterion=gini, max_leaf_nodes=60, min_samples_leaf=480, splitter=best, score=0.885, total=   0.6s\n",
            "[CV] criterion=gini, max_leaf_nodes=60, min_samples_leaf=480, splitter=best \n",
            "[CV]  criterion=gini, max_leaf_nodes=60, min_samples_leaf=480, splitter=best, score=0.885, total=   0.6s\n",
            "[CV] criterion=gini, max_leaf_nodes=80, min_samples_leaf=30, splitter=best \n",
            "[CV]  criterion=gini, max_leaf_nodes=80, min_samples_leaf=30, splitter=best, score=0.887, total=   1.7s\n",
            "[CV] criterion=gini, max_leaf_nodes=80, min_samples_leaf=30, splitter=best \n",
            "[CV]  criterion=gini, max_leaf_nodes=80, min_samples_leaf=30, splitter=best, score=0.894, total=   1.6s\n",
            "[CV] criterion=gini, max_leaf_nodes=80, min_samples_leaf=60, splitter=best \n",
            "[CV]  criterion=gini, max_leaf_nodes=80, min_samples_leaf=60, splitter=best, score=0.892, total=   1.2s\n",
            "[CV] criterion=gini, max_leaf_nodes=80, min_samples_leaf=60, splitter=best \n",
            "[CV]  criterion=gini, max_leaf_nodes=80, min_samples_leaf=60, splitter=best, score=0.894, total=   1.2s\n",
            "[CV] criterion=gini, max_leaf_nodes=80, min_samples_leaf=90, splitter=best \n",
            "[CV]  criterion=gini, max_leaf_nodes=80, min_samples_leaf=90, splitter=best, score=0.885, total=   1.0s\n",
            "[CV] criterion=gini, max_leaf_nodes=80, min_samples_leaf=90, splitter=best \n",
            "[CV]  criterion=gini, max_leaf_nodes=80, min_samples_leaf=90, splitter=best, score=0.885, total=   1.0s\n",
            "[CV] criterion=gini, max_leaf_nodes=80, min_samples_leaf=120, splitter=best \n",
            "[CV]  criterion=gini, max_leaf_nodes=80, min_samples_leaf=120, splitter=best, score=0.885, total=   0.9s\n",
            "[CV] criterion=gini, max_leaf_nodes=80, min_samples_leaf=120, splitter=best \n",
            "[CV]  criterion=gini, max_leaf_nodes=80, min_samples_leaf=120, splitter=best, score=0.885, total=   1.0s\n",
            "[CV] criterion=gini, max_leaf_nodes=80, min_samples_leaf=150, splitter=best \n",
            "[CV]  criterion=gini, max_leaf_nodes=80, min_samples_leaf=150, splitter=best, score=0.885, total=   1.0s\n",
            "[CV] criterion=gini, max_leaf_nodes=80, min_samples_leaf=150, splitter=best \n",
            "[CV]  criterion=gini, max_leaf_nodes=80, min_samples_leaf=150, splitter=best, score=0.885, total=   0.9s\n",
            "[CV] criterion=gini, max_leaf_nodes=80, min_samples_leaf=180, splitter=best \n",
            "[CV]  criterion=gini, max_leaf_nodes=80, min_samples_leaf=180, splitter=best, score=0.885, total=   0.8s\n",
            "[CV] criterion=gini, max_leaf_nodes=80, min_samples_leaf=180, splitter=best \n",
            "[CV]  criterion=gini, max_leaf_nodes=80, min_samples_leaf=180, splitter=best, score=0.885, total=   0.8s\n",
            "[CV] criterion=gini, max_leaf_nodes=80, min_samples_leaf=210, splitter=best \n",
            "[CV]  criterion=gini, max_leaf_nodes=80, min_samples_leaf=210, splitter=best, score=0.885, total=   0.8s\n",
            "[CV] criterion=gini, max_leaf_nodes=80, min_samples_leaf=210, splitter=best \n",
            "[CV]  criterion=gini, max_leaf_nodes=80, min_samples_leaf=210, splitter=best, score=0.885, total=   0.8s\n",
            "[CV] criterion=gini, max_leaf_nodes=80, min_samples_leaf=240, splitter=best \n",
            "[CV]  criterion=gini, max_leaf_nodes=80, min_samples_leaf=240, splitter=best, score=0.885, total=   0.8s\n",
            "[CV] criterion=gini, max_leaf_nodes=80, min_samples_leaf=240, splitter=best \n",
            "[CV]  criterion=gini, max_leaf_nodes=80, min_samples_leaf=240, splitter=best, score=0.885, total=   0.7s\n",
            "[CV] criterion=gini, max_leaf_nodes=80, min_samples_leaf=270, splitter=best \n",
            "[CV]  criterion=gini, max_leaf_nodes=80, min_samples_leaf=270, splitter=best, score=0.885, total=   0.8s\n",
            "[CV] criterion=gini, max_leaf_nodes=80, min_samples_leaf=270, splitter=best \n",
            "[CV]  criterion=gini, max_leaf_nodes=80, min_samples_leaf=270, splitter=best, score=0.885, total=   0.7s\n",
            "[CV] criterion=gini, max_leaf_nodes=80, min_samples_leaf=300, splitter=best \n",
            "[CV]  criterion=gini, max_leaf_nodes=80, min_samples_leaf=300, splitter=best, score=0.885, total=   0.7s\n",
            "[CV] criterion=gini, max_leaf_nodes=80, min_samples_leaf=300, splitter=best \n",
            "[CV]  criterion=gini, max_leaf_nodes=80, min_samples_leaf=300, splitter=best, score=0.885, total=   0.7s\n",
            "[CV] criterion=gini, max_leaf_nodes=80, min_samples_leaf=330, splitter=best \n",
            "[CV]  criterion=gini, max_leaf_nodes=80, min_samples_leaf=330, splitter=best, score=0.885, total=   0.8s\n",
            "[CV] criterion=gini, max_leaf_nodes=80, min_samples_leaf=330, splitter=best \n",
            "[CV]  criterion=gini, max_leaf_nodes=80, min_samples_leaf=330, splitter=best, score=0.885, total=   0.8s\n",
            "[CV] criterion=gini, max_leaf_nodes=80, min_samples_leaf=360, splitter=best \n",
            "[CV]  criterion=gini, max_leaf_nodes=80, min_samples_leaf=360, splitter=best, score=0.885, total=   0.8s\n",
            "[CV] criterion=gini, max_leaf_nodes=80, min_samples_leaf=360, splitter=best \n",
            "[CV]  criterion=gini, max_leaf_nodes=80, min_samples_leaf=360, splitter=best, score=0.885, total=   0.7s\n",
            "[CV] criterion=gini, max_leaf_nodes=80, min_samples_leaf=390, splitter=best \n",
            "[CV]  criterion=gini, max_leaf_nodes=80, min_samples_leaf=390, splitter=best, score=0.885, total=   0.7s\n",
            "[CV] criterion=gini, max_leaf_nodes=80, min_samples_leaf=390, splitter=best \n",
            "[CV]  criterion=gini, max_leaf_nodes=80, min_samples_leaf=390, splitter=best, score=0.885, total=   0.7s\n",
            "[CV] criterion=gini, max_leaf_nodes=80, min_samples_leaf=420, splitter=best \n",
            "[CV]  criterion=gini, max_leaf_nodes=80, min_samples_leaf=420, splitter=best, score=0.885, total=   0.6s\n",
            "[CV] criterion=gini, max_leaf_nodes=80, min_samples_leaf=420, splitter=best \n",
            "[CV]  criterion=gini, max_leaf_nodes=80, min_samples_leaf=420, splitter=best, score=0.885, total=   0.6s\n",
            "[CV] criterion=gini, max_leaf_nodes=80, min_samples_leaf=450, splitter=best \n",
            "[CV]  criterion=gini, max_leaf_nodes=80, min_samples_leaf=450, splitter=best, score=0.885, total=   0.7s\n",
            "[CV] criterion=gini, max_leaf_nodes=80, min_samples_leaf=450, splitter=best \n",
            "[CV]  criterion=gini, max_leaf_nodes=80, min_samples_leaf=450, splitter=best, score=0.885, total=   0.6s\n",
            "[CV] criterion=gini, max_leaf_nodes=80, min_samples_leaf=480, splitter=best \n",
            "[CV]  criterion=gini, max_leaf_nodes=80, min_samples_leaf=480, splitter=best, score=0.885, total=   0.7s\n",
            "[CV] criterion=gini, max_leaf_nodes=80, min_samples_leaf=480, splitter=best \n",
            "[CV]  criterion=gini, max_leaf_nodes=80, min_samples_leaf=480, splitter=best, score=0.885, total=   0.6s\n"
          ]
        },
        {
          "output_type": "stream",
          "name": "stderr",
          "text": [
            "[Parallel(n_jobs=1)]: Done 128 out of 128 | elapsed:  1.8min finished\n"
          ]
        },
        {
          "output_type": "stream",
          "name": "stdout",
          "text": [
            "{'criterion': 'gini', 'max_leaf_nodes': 20, 'min_samples_leaf': 60, 'splitter': 'best'}\n"
          ]
        }
      ]
    },
    {
      "cell_type": "code",
      "metadata": {
        "id": "IIZ37PJ4SXMD"
      },
      "source": [
        "#Using the parameters obtained from HyperParameterTuning in the DecisionTreeClassifier\n",
        "#Construct Decision Trees using the best parameters\n",
        "clf = DecisionTreeClassifier(**grid_parm)\n",
        "clfr = DecisionTreeClassifier(**grid_parm1)\n",
        "\n",
        "clf.fit(X_train,y_train)\n",
        "clf_predict = clf.predict(X_test)\n",
        "clfr.fit(X_train,y_train)\n",
        "clfr_predict = clfr.predict(X_test)"
      ],
      "execution_count": 28,
      "outputs": []
    },
    {
      "cell_type": "code",
      "metadata": {
        "colab": {
          "base_uri": "https://localhost:8080/"
        },
        "id": "5bHreYnnSevz",
        "outputId": "dafe258e-5819-4f34-edd1-4a5ee01178ff"
      },
      "source": [
        "#Obtain accuracy ,confusion matrix,classification report and AUC values for the result above.\n",
        "print(\"accuracy Score (testset) after hypertuning randomized search for Decision Tree:{0:6f}\".format(clf.score(X_test,y_test)))\n",
        "\n",
        "print(\"accuracy Score (testset) after hypertuning grid search for Decision Tree:{0:6f}\".format(clfr.score(X_test,y_test)))\n",
        "print(\"Confusion Matrix after hypertuning for Decision Tree\")\n",
        "print(confusion_matrix(y_test,clf_predict))\n",
        "print(\"=== Classification Report ===\")\n",
        "print(classification_report(y_test,clf_predict))"
      ],
      "execution_count": 29,
      "outputs": [
        {
          "output_type": "stream",
          "name": "stdout",
          "text": [
            "accuracy Score (testset) after hypertuning randomized search for Decision Tree:0.891243\n",
            "accuracy Score (testset) after hypertuning grid search for Decision Tree:0.892858\n",
            "Confusion Matrix after hypertuning for Decision Tree\n",
            "[[39264   658]\n",
            " [ 4259  1030]]\n",
            "=== Classification Report ===\n",
            "              precision    recall  f1-score   support\n",
            "\n",
            "          no       0.90      0.98      0.94     39922\n",
            "         yes       0.61      0.19      0.30      5289\n",
            "\n",
            "    accuracy                           0.89     45211\n",
            "   macro avg       0.76      0.59      0.62     45211\n",
            "weighted avg       0.87      0.89      0.87     45211\n",
            "\n"
          ]
        }
      ]
    },
    {
      "cell_type": "code",
      "metadata": {
        "colab": {
          "base_uri": "https://localhost:8080/"
        },
        "id": "So0xwGhpSgTU",
        "outputId": "160b058d-cae2-4505-912f-d4d7e1f5aace"
      },
      "source": [
        "#cross validation using decision tree model\n",
        "clf_cv_score = cross_val_score(clf, X_train, y_train, cv=4, \n",
        "                               scoring=\"balanced_accuracy\", error_score=5)\n",
        "print(clf_cv_score)\n",
        "print('\\n')"
      ],
      "execution_count": 30,
      "outputs": [
        {
          "output_type": "stream",
          "name": "stdout",
          "text": [
            "[0.58228626 0.56892308 0.56088462 0.58680769]\n",
            "\n",
            "\n"
          ]
        }
      ]
    },
    {
      "cell_type": "markdown",
      "metadata": {
        "id": "qJ_31-KD-Ck-"
      },
      "source": [
        "# Random Forest Modeling"
      ]
    },
    {
      "cell_type": "code",
      "metadata": {
        "colab": {
          "base_uri": "https://localhost:8080/"
        },
        "id": "M9KXPcUtBE_E",
        "outputId": "34a22024-bc4c-45d6-e8f9-90fdfa2ac11e"
      },
      "source": [
        "#Normal randomforest==============================================================================\n",
        "#=================================================================================================\n",
        "rfc = RandomForestClassifier()\n",
        "rfc.fit(X_train, y_train)\n",
        "rfc_predict=rfc.predict(X_test)\n",
        "print(\"accuracy Score (testset) for RandomForest:{0:6f}\".format(rfc.score(X_test,y_test)))\n",
        "print(\"Confusion Matrix for Random Forest:\")\n",
        "print(confusion_matrix(y_test,rfc_predict))\n"
      ],
      "execution_count": 41,
      "outputs": [
        {
          "output_type": "stream",
          "name": "stdout",
          "text": [
            "accuracy Score (testset) for RandomForest:0.899670\n",
            "Confusion Matrix for Random Forest:\n",
            "[[39786   136]\n",
            " [ 4400   889]]\n"
          ]
        }
      ]
    },
    {
      "cell_type": "markdown",
      "metadata": {
        "id": "JJPAcJZ6ZWFT"
      },
      "source": [
        "###Random Forest Hyperparameter Tuning 1"
      ]
    },
    {
      "cell_type": "code",
      "metadata": {
        "colab": {
          "base_uri": "https://localhost:8080/"
        },
        "id": "ZoDNRWYbtk05",
        "outputId": "7d9db452-1329-4c7b-ed8d-a9d931609f4d"
      },
      "source": [
        "#Hyperparameter tuning done for random forest classifier\n",
        "\n",
        "#do random search\n",
        "print(\"RandomizedSearchCV-Random Forest\")\n",
        "r_parameters={'min_samples_split' : range(10,100,10),'max_depth': range(25,100,25),'criterion':['entropy'], 'max_leaf_nodes' : range( 20,200,20)}\n",
        "rfc_random = RandomizedSearchCV(rfc,r_parameters,n_iter=5,cv=6)\n",
        "rfc_random.fit(X_train, y_train)\n",
        "grid_parmR=rfc_random.best_params_\n",
        "print(grid_parmR)"
      ],
      "execution_count": 42,
      "outputs": [
        {
          "output_type": "stream",
          "name": "stdout",
          "text": [
            "RandomizedSearchCV-Random Forest\n",
            "{'min_samples_split': 50, 'max_leaf_nodes': 140, 'max_depth': 75, 'criterion': 'entropy'}\n"
          ]
        }
      ]
    },
    {
      "cell_type": "code",
      "metadata": {
        "colab": {
          "base_uri": "https://localhost:8080/"
        },
        "id": "BFOj5wBWtuZq",
        "outputId": "747d504c-4c68-4f53-fd4f-cf037975a122"
      },
      "source": [
        "#Now do grid search\n",
        "print(\"GridSearchCV-Decision tree\")\n",
        "r_parameters2={'n_estimators': [5, 15, 30, 50],'criterion': ['gini', 'entropy']}\n",
        "rfc_grid = GridSearchCV(rfc, r_parameters2, n_jobs=-1)\n",
        "rfc_grid.fit(X_train, y_train)\n",
        "grid_parmR1=rfc_grid.best_params_\n",
        "print(grid_parmR1)"
      ],
      "execution_count": 43,
      "outputs": [
        {
          "output_type": "stream",
          "name": "stdout",
          "text": [
            "GridSearchCV-Decision tree\n",
            "{'criterion': 'gini', 'n_estimators': 30}\n"
          ]
        }
      ]
    },
    {
      "cell_type": "code",
      "metadata": {
        "id": "_xNkYtVot4Xv"
      },
      "source": [
        "#Using the parameters obtained from HyperParameterTuning in the RandomForestClassifier\n",
        "#Construct Random Forest using the best parameters\n",
        "rfc = RandomForestClassifier(**grid_parmR)\n",
        "rfcr = RandomForestClassifier(**grid_parmR1)\n",
        "\n",
        "rfc.fit(X_train,y_train)\n",
        "rfc_predict = rfc.predict(X_test)\n",
        "rfcr.fit(X_train,y_train)\n",
        "rfcr_predict = rfcr.predict(X_test)"
      ],
      "execution_count": 44,
      "outputs": []
    },
    {
      "cell_type": "code",
      "metadata": {
        "colab": {
          "base_uri": "https://localhost:8080/"
        },
        "id": "fBbOcMXTuL1K",
        "outputId": "1601ac92-7b97-45af-b9bb-0cbb687a5f68"
      },
      "source": [
        "#Obtain accuracy ,confusion matrix,classification report and AUC values for the result above.\n",
        "print(\"accuracy Score (testset) after hypertuning randomized search for Random Forest:{0:6f}\".format(rfc.score(X_test,y_test)))\n",
        "\n",
        "print(\"accuracy Score (testset) after hypertuning grid search for Random Forest:{0:6f}\".format(rfcr.score(X_test,y_test)))\n",
        "print(\"Confusion Matrix after hypertuning for Random Forest\")\n",
        "print(confusion_matrix(y_test,rfc_predict))\n",
        "print(\"=== Classification Report ===\")\n",
        "print(classification_report(y_test,rfc_predict))"
      ],
      "execution_count": 45,
      "outputs": [
        {
          "output_type": "stream",
          "name": "stdout",
          "text": [
            "accuracy Score (testset) after hypertuning randomized search for Random Forest:0.884298\n",
            "accuracy Score (testset) after hypertuning grid search for Random Forest:0.898255\n",
            "Confusion Matrix after hypertuning for Random Forest\n",
            "[[39914     8]\n",
            " [ 5223    66]]\n",
            "=== Classification Report ===\n",
            "              precision    recall  f1-score   support\n",
            "\n",
            "          no       0.88      1.00      0.94     39922\n",
            "         yes       0.89      0.01      0.02      5289\n",
            "\n",
            "    accuracy                           0.88     45211\n",
            "   macro avg       0.89      0.51      0.48     45211\n",
            "weighted avg       0.89      0.88      0.83     45211\n",
            "\n"
          ]
        }
      ]
    },
    {
      "cell_type": "code",
      "metadata": {
        "colab": {
          "base_uri": "https://localhost:8080/"
        },
        "id": "BQD_2-r-uf7-",
        "outputId": "48720952-6e62-437b-f052-28fdc9db4dd7"
      },
      "source": [
        "#cross validation using random forest model\n",
        "rfc_cv_score = cross_val_score(rfc, X_train, y_train, cv=4, \n",
        "                               scoring=\"balanced_accuracy\", error_score=5)\n",
        "print(rfc_cv_score)\n",
        "print('\\n')"
      ],
      "execution_count": 46,
      "outputs": [
        {
          "output_type": "stream",
          "name": "stdout",
          "text": [
            "[0.5        0.50384615 0.50769231 0.50384615]\n",
            "\n",
            "\n"
          ]
        }
      ]
    },
    {
      "cell_type": "markdown",
      "metadata": {
        "id": "VT4KUbWaul3a"
      },
      "source": [
        "###Random Forest Hyperparameter Tuning 2\n",
        "\n",
        "\n"
      ]
    },
    {
      "cell_type": "code",
      "metadata": {
        "colab": {
          "base_uri": "https://localhost:8080/"
        },
        "id": "KObPzug33qk-",
        "outputId": "8f5f817f-4f5b-491a-dc76-c560c43d9a5f"
      },
      "source": [
        "#Hyperparameter tuning done for random forest classifier\n",
        "\n",
        "#do random search\n",
        "print(\"RandomizedSearchCV-Random Forest\")\n",
        "r_parameters={'min_samples_split' : range(100,1000,100),'max_depth': range(15,80,15),'criterion':['gini'], 'max_leaf_nodes' : range( 200,1000,200)}\n",
        "rfc_random = RandomizedSearchCV(rfc,r_parameters,n_iter=5,cv=5)\n",
        "rfc_random.fit(X_train, y_train)\n",
        "grid_parmR=rfc_random.best_params_\n",
        "print(grid_parmR)"
      ],
      "execution_count": 47,
      "outputs": [
        {
          "output_type": "stream",
          "name": "stdout",
          "text": [
            "RandomizedSearchCV-Random Forest\n",
            "{'min_samples_split': 400, 'max_leaf_nodes': 600, 'max_depth': 30, 'criterion': 'gini'}\n"
          ]
        }
      ]
    },
    {
      "cell_type": "code",
      "metadata": {
        "colab": {
          "base_uri": "https://localhost:8080/"
        },
        "id": "_7HoyNZu3rP-",
        "outputId": "bb00e9f3-90f3-4305-8cf8-c1e890307eb4"
      },
      "source": [
        "#Now do grid search\n",
        "print(\"GridSearchCV-Decision tree\")\n",
        "r_parameters2={'n_estimators': [25, 55, 10, 20],'criterion': ['gini', 'entropy'],}\n",
        "rfc_grid = GridSearchCV(rfc, r_parameters2, n_jobs=5, verbose=5)\n",
        "rfc_grid.fit(X_train, y_train)\n",
        "grid_parmR1=rfc_grid.best_params_\n",
        "print(grid_parmR1)"
      ],
      "execution_count": 48,
      "outputs": [
        {
          "output_type": "stream",
          "name": "stdout",
          "text": [
            "GridSearchCV-Decision tree\n",
            "Fitting 5 folds for each of 8 candidates, totalling 40 fits\n"
          ]
        },
        {
          "output_type": "stream",
          "name": "stderr",
          "text": [
            "[Parallel(n_jobs=5)]: Using backend LokyBackend with 5 concurrent workers.\n",
            "[Parallel(n_jobs=5)]: Done   8 tasks      | elapsed:   24.0s\n",
            "[Parallel(n_jobs=5)]: Done  40 out of  40 | elapsed:  1.0min remaining:    0.0s\n",
            "[Parallel(n_jobs=5)]: Done  40 out of  40 | elapsed:  1.0min finished\n"
          ]
        },
        {
          "output_type": "stream",
          "name": "stdout",
          "text": [
            "{'criterion': 'entropy', 'n_estimators': 10}\n"
          ]
        }
      ]
    },
    {
      "cell_type": "code",
      "metadata": {
        "id": "vm26mqpJ3s6I"
      },
      "source": [
        "#Using the parameters obtained from HyperParameterTuning in the RandomForestClassifier\n",
        "#Construct Random Forest using the best parameters\n",
        "rfc = RandomForestClassifier(**grid_parmR)\n",
        "rfcr = RandomForestClassifier(**grid_parmR1)\n",
        "\n",
        "rfc.fit(X_train,y_train)\n",
        "rfc_predict = rfc.predict(X_test)\n",
        "rfcr.fit(X_train,y_train)\n",
        "rfcr_predict = rfcr.predict(X_test)"
      ],
      "execution_count": 49,
      "outputs": []
    },
    {
      "cell_type": "code",
      "metadata": {
        "colab": {
          "base_uri": "https://localhost:8080/"
        },
        "id": "kOs7_Vvg3ujB",
        "outputId": "8461f1fa-6267-42ba-9bca-bd55cb392e4a"
      },
      "source": [
        "#Obtain accuracy ,confusion matrix,classification report and AUC values for the result above.\n",
        "print(\"accuracy Score (testset) after hypertuning randomized search for Decision Tree:{0:6f}\".format(rfc.score(X_test,y_test)))\n",
        "\n",
        "print(\"accuracy Score (testset) after hypertuning grid search for Decision Tree:{0:6f}\".format(rfcr.score(X_test,y_test)))\n",
        "print(\"Confusion Matrix after hypertuning for Decision Tree\")\n",
        "print(confusion_matrix(y_test,rfc_predict))\n",
        "print(\"=== Classification Report ===\")\n",
        "print(classification_report(y_test,rfc_predict))"
      ],
      "execution_count": 50,
      "outputs": [
        {
          "output_type": "stream",
          "name": "stdout",
          "text": [
            "accuracy Score (testset) after hypertuning randomized search for Decision Tree:0.883015\n",
            "accuracy Score (testset) after hypertuning grid search for Decision Tree:0.899648\n",
            "Confusion Matrix after hypertuning for Decision Tree\n",
            "[[39922     0]\n",
            " [ 5289     0]]\n",
            "=== Classification Report ===\n",
            "              precision    recall  f1-score   support\n",
            "\n",
            "          no       0.88      1.00      0.94     39922\n",
            "         yes       0.00      0.00      0.00      5289\n",
            "\n",
            "    accuracy                           0.88     45211\n",
            "   macro avg       0.44      0.50      0.47     45211\n",
            "weighted avg       0.78      0.88      0.83     45211\n",
            "\n"
          ]
        }
      ]
    },
    {
      "cell_type": "code",
      "metadata": {
        "colab": {
          "base_uri": "https://localhost:8080/"
        },
        "id": "Q0JRNKtZ3095",
        "outputId": "bcf68da3-0282-4293-cb2b-eb3c53b60b92"
      },
      "source": [
        "#cross validation using random forest model\n",
        "rfc_cv_score = cross_val_score(rfc, X_train, y_train, cv=5, \n",
        "                               scoring=\"balanced_accuracy\", n_jobs=3, error_score=3)\n",
        "print(rfc_cv_score)\n",
        "print('\\n')"
      ],
      "execution_count": 52,
      "outputs": [
        {
          "output_type": "stream",
          "name": "stdout",
          "text": [
            "[0.5 0.5 0.5 0.5 0.5]\n",
            "\n",
            "\n"
          ]
        }
      ]
    },
    {
      "cell_type": "markdown",
      "metadata": {
        "id": "hNiaALNr8UvH"
      },
      "source": [
        "###Random Forest Hyperparameter Tuning 3\n"
      ]
    },
    {
      "cell_type": "code",
      "metadata": {
        "colab": {
          "base_uri": "https://localhost:8080/"
        },
        "id": "ONIglirU8Y29",
        "outputId": "15076e9f-06fb-48df-fb7e-72a47061d4d5"
      },
      "source": [
        "#Hyperparameter tuning done for random forest classifier\n",
        "\n",
        "#do random search\n",
        "print(\"RandomizedSearchCV-Random Forest\")\n",
        "r_parameters={'min_samples_split' : range(200,1800,150),'max_depth': range(10,200,80),'criterion':['entropy'], 'max_leaf_nodes' : range( 25,90,20)}\n",
        "rfc_random = RandomizedSearchCV(rfc,r_parameters,n_iter=7,cv=5, verbose=6)\n",
        "rfc_random.fit(X_train, y_train)\n",
        "grid_parmR=rfc_random.best_params_\n",
        "print(grid_parmR)"
      ],
      "execution_count": 53,
      "outputs": [
        {
          "output_type": "stream",
          "name": "stdout",
          "text": [
            "RandomizedSearchCV-Random Forest\n",
            "Fitting 5 folds for each of 7 candidates, totalling 35 fits\n",
            "[CV] min_samples_split=650, max_leaf_nodes=85, max_depth=10, criterion=entropy \n"
          ]
        },
        {
          "output_type": "stream",
          "name": "stderr",
          "text": [
            "[Parallel(n_jobs=1)]: Using backend SequentialBackend with 1 concurrent workers.\n"
          ]
        },
        {
          "output_type": "stream",
          "name": "stdout",
          "text": [
            "[CV]  min_samples_split=650, max_leaf_nodes=85, max_depth=10, criterion=entropy, score=0.884, total=   1.8s\n",
            "[CV] min_samples_split=650, max_leaf_nodes=85, max_depth=10, criterion=entropy \n"
          ]
        },
        {
          "output_type": "stream",
          "name": "stderr",
          "text": [
            "[Parallel(n_jobs=1)]: Done   1 out of   1 | elapsed:    1.8s remaining:    0.0s\n"
          ]
        },
        {
          "output_type": "stream",
          "name": "stdout",
          "text": [
            "[CV]  min_samples_split=650, max_leaf_nodes=85, max_depth=10, criterion=entropy, score=0.885, total=   1.6s\n",
            "[CV] min_samples_split=650, max_leaf_nodes=85, max_depth=10, criterion=entropy \n"
          ]
        },
        {
          "output_type": "stream",
          "name": "stderr",
          "text": [
            "[Parallel(n_jobs=1)]: Done   2 out of   2 | elapsed:    3.4s remaining:    0.0s\n"
          ]
        },
        {
          "output_type": "stream",
          "name": "stdout",
          "text": [
            "[CV]  min_samples_split=650, max_leaf_nodes=85, max_depth=10, criterion=entropy, score=0.885, total=   1.6s\n",
            "[CV] min_samples_split=650, max_leaf_nodes=85, max_depth=10, criterion=entropy \n"
          ]
        },
        {
          "output_type": "stream",
          "name": "stderr",
          "text": [
            "[Parallel(n_jobs=1)]: Done   3 out of   3 | elapsed:    5.0s remaining:    0.0s\n"
          ]
        },
        {
          "output_type": "stream",
          "name": "stdout",
          "text": [
            "[CV]  min_samples_split=650, max_leaf_nodes=85, max_depth=10, criterion=entropy, score=0.885, total=   1.6s\n",
            "[CV] min_samples_split=650, max_leaf_nodes=85, max_depth=10, criterion=entropy \n"
          ]
        },
        {
          "output_type": "stream",
          "name": "stderr",
          "text": [
            "[Parallel(n_jobs=1)]: Done   4 out of   4 | elapsed:    6.6s remaining:    0.0s\n"
          ]
        },
        {
          "output_type": "stream",
          "name": "stdout",
          "text": [
            "[CV]  min_samples_split=650, max_leaf_nodes=85, max_depth=10, criterion=entropy, score=0.885, total=   1.6s\n",
            "[CV] min_samples_split=1400, max_leaf_nodes=25, max_depth=10, criterion=entropy \n"
          ]
        },
        {
          "output_type": "stream",
          "name": "stderr",
          "text": [
            "[Parallel(n_jobs=1)]: Done   5 out of   5 | elapsed:    8.2s remaining:    0.0s\n"
          ]
        },
        {
          "output_type": "stream",
          "name": "stdout",
          "text": [
            "[CV]  min_samples_split=1400, max_leaf_nodes=25, max_depth=10, criterion=entropy, score=0.884, total=   1.4s\n",
            "[CV] min_samples_split=1400, max_leaf_nodes=25, max_depth=10, criterion=entropy \n",
            "[CV]  min_samples_split=1400, max_leaf_nodes=25, max_depth=10, criterion=entropy, score=0.885, total=   1.4s\n",
            "[CV] min_samples_split=1400, max_leaf_nodes=25, max_depth=10, criterion=entropy \n",
            "[CV]  min_samples_split=1400, max_leaf_nodes=25, max_depth=10, criterion=entropy, score=0.885, total=   1.4s\n",
            "[CV] min_samples_split=1400, max_leaf_nodes=25, max_depth=10, criterion=entropy \n",
            "[CV]  min_samples_split=1400, max_leaf_nodes=25, max_depth=10, criterion=entropy, score=0.885, total=   1.4s\n",
            "[CV] min_samples_split=1400, max_leaf_nodes=25, max_depth=10, criterion=entropy \n",
            "[CV]  min_samples_split=1400, max_leaf_nodes=25, max_depth=10, criterion=entropy, score=0.885, total=   1.4s\n",
            "[CV] min_samples_split=1700, max_leaf_nodes=45, max_depth=90, criterion=entropy \n",
            "[CV]  min_samples_split=1700, max_leaf_nodes=45, max_depth=90, criterion=entropy, score=0.884, total=   1.7s\n",
            "[CV] min_samples_split=1700, max_leaf_nodes=45, max_depth=90, criterion=entropy \n",
            "[CV]  min_samples_split=1700, max_leaf_nodes=45, max_depth=90, criterion=entropy, score=0.885, total=   1.7s\n",
            "[CV] min_samples_split=1700, max_leaf_nodes=45, max_depth=90, criterion=entropy \n",
            "[CV]  min_samples_split=1700, max_leaf_nodes=45, max_depth=90, criterion=entropy, score=0.885, total=   1.6s\n",
            "[CV] min_samples_split=1700, max_leaf_nodes=45, max_depth=90, criterion=entropy \n",
            "[CV]  min_samples_split=1700, max_leaf_nodes=45, max_depth=90, criterion=entropy, score=0.885, total=   1.8s\n",
            "[CV] min_samples_split=1700, max_leaf_nodes=45, max_depth=90, criterion=entropy \n",
            "[CV]  min_samples_split=1700, max_leaf_nodes=45, max_depth=90, criterion=entropy, score=0.885, total=   1.7s\n",
            "[CV] min_samples_split=650, max_leaf_nodes=85, max_depth=90, criterion=entropy \n",
            "[CV]  min_samples_split=650, max_leaf_nodes=85, max_depth=90, criterion=entropy, score=0.884, total=   3.7s\n",
            "[CV] min_samples_split=650, max_leaf_nodes=85, max_depth=90, criterion=entropy \n",
            "[CV]  min_samples_split=650, max_leaf_nodes=85, max_depth=90, criterion=entropy, score=0.885, total=   3.8s\n",
            "[CV] min_samples_split=650, max_leaf_nodes=85, max_depth=90, criterion=entropy \n",
            "[CV]  min_samples_split=650, max_leaf_nodes=85, max_depth=90, criterion=entropy, score=0.885, total=   3.7s\n",
            "[CV] min_samples_split=650, max_leaf_nodes=85, max_depth=90, criterion=entropy \n",
            "[CV]  min_samples_split=650, max_leaf_nodes=85, max_depth=90, criterion=entropy, score=0.885, total=   3.8s\n",
            "[CV] min_samples_split=650, max_leaf_nodes=85, max_depth=90, criterion=entropy \n",
            "[CV]  min_samples_split=650, max_leaf_nodes=85, max_depth=90, criterion=entropy, score=0.885, total=   3.4s\n",
            "[CV] min_samples_split=1700, max_leaf_nodes=85, max_depth=90, criterion=entropy \n",
            "[CV]  min_samples_split=1700, max_leaf_nodes=85, max_depth=90, criterion=entropy, score=0.884, total=   1.6s\n",
            "[CV] min_samples_split=1700, max_leaf_nodes=85, max_depth=90, criterion=entropy \n",
            "[CV]  min_samples_split=1700, max_leaf_nodes=85, max_depth=90, criterion=entropy, score=0.885, total=   1.6s\n",
            "[CV] min_samples_split=1700, max_leaf_nodes=85, max_depth=90, criterion=entropy \n",
            "[CV]  min_samples_split=1700, max_leaf_nodes=85, max_depth=90, criterion=entropy, score=0.885, total=   1.5s\n",
            "[CV] min_samples_split=1700, max_leaf_nodes=85, max_depth=90, criterion=entropy \n",
            "[CV]  min_samples_split=1700, max_leaf_nodes=85, max_depth=90, criterion=entropy, score=0.885, total=   1.7s\n",
            "[CV] min_samples_split=1700, max_leaf_nodes=85, max_depth=90, criterion=entropy \n",
            "[CV]  min_samples_split=1700, max_leaf_nodes=85, max_depth=90, criterion=entropy, score=0.885, total=   1.7s\n",
            "[CV] min_samples_split=800, max_leaf_nodes=45, max_depth=90, criterion=entropy \n",
            "[CV]  min_samples_split=800, max_leaf_nodes=45, max_depth=90, criterion=entropy, score=0.884, total=   3.1s\n",
            "[CV] min_samples_split=800, max_leaf_nodes=45, max_depth=90, criterion=entropy \n",
            "[CV]  min_samples_split=800, max_leaf_nodes=45, max_depth=90, criterion=entropy, score=0.885, total=   2.9s\n",
            "[CV] min_samples_split=800, max_leaf_nodes=45, max_depth=90, criterion=entropy \n",
            "[CV]  min_samples_split=800, max_leaf_nodes=45, max_depth=90, criterion=entropy, score=0.885, total=   2.8s\n",
            "[CV] min_samples_split=800, max_leaf_nodes=45, max_depth=90, criterion=entropy \n",
            "[CV]  min_samples_split=800, max_leaf_nodes=45, max_depth=90, criterion=entropy, score=0.885, total=   3.0s\n",
            "[CV] min_samples_split=800, max_leaf_nodes=45, max_depth=90, criterion=entropy \n",
            "[CV]  min_samples_split=800, max_leaf_nodes=45, max_depth=90, criterion=entropy, score=0.885, total=   3.0s\n",
            "[CV] min_samples_split=500, max_leaf_nodes=45, max_depth=170, criterion=entropy \n",
            "[CV]  min_samples_split=500, max_leaf_nodes=45, max_depth=170, criterion=entropy, score=0.884, total=   3.4s\n",
            "[CV] min_samples_split=500, max_leaf_nodes=45, max_depth=170, criterion=entropy \n",
            "[CV]  min_samples_split=500, max_leaf_nodes=45, max_depth=170, criterion=entropy, score=0.885, total=   3.3s\n",
            "[CV] min_samples_split=500, max_leaf_nodes=45, max_depth=170, criterion=entropy \n",
            "[CV]  min_samples_split=500, max_leaf_nodes=45, max_depth=170, criterion=entropy, score=0.885, total=   3.3s\n",
            "[CV] min_samples_split=500, max_leaf_nodes=45, max_depth=170, criterion=entropy \n",
            "[CV]  min_samples_split=500, max_leaf_nodes=45, max_depth=170, criterion=entropy, score=0.885, total=   3.3s\n",
            "[CV] min_samples_split=500, max_leaf_nodes=45, max_depth=170, criterion=entropy \n",
            "[CV]  min_samples_split=500, max_leaf_nodes=45, max_depth=170, criterion=entropy, score=0.885, total=   3.3s\n"
          ]
        },
        {
          "output_type": "stream",
          "name": "stderr",
          "text": [
            "[Parallel(n_jobs=1)]: Done  35 out of  35 | elapsed:  1.4min finished\n"
          ]
        },
        {
          "output_type": "stream",
          "name": "stdout",
          "text": [
            "{'min_samples_split': 650, 'max_leaf_nodes': 85, 'max_depth': 10, 'criterion': 'entropy'}\n"
          ]
        }
      ]
    },
    {
      "cell_type": "code",
      "metadata": {
        "colab": {
          "base_uri": "https://localhost:8080/"
        },
        "id": "q-ovOKQ58ZTw",
        "outputId": "40666f2d-8bdc-45e5-f34e-35b841be37f3"
      },
      "source": [
        "#Now do grid search\n",
        "print(\"GridSearchCV-Decision tree\")\n",
        "r_parameters2={'n_estimators': [95, 15, 120, 200],'criterion': ['gini', 'entropy'], 'class_weight':['balanced', 'balanced_subsample']}\n",
        "rfc_grid = GridSearchCV(rfc, r_parameters2, n_jobs=11, verbose=15, error_score=-2)\n",
        "rfc_grid.fit(X_train, y_train)\n",
        "grid_parmR1=rfc_grid.best_params_\n",
        "print(grid_parmR1)"
      ],
      "execution_count": 55,
      "outputs": [
        {
          "output_type": "stream",
          "name": "stdout",
          "text": [
            "GridSearchCV-Decision tree\n",
            "Fitting 5 folds for each of 16 candidates, totalling 80 fits\n"
          ]
        },
        {
          "output_type": "stream",
          "name": "stderr",
          "text": [
            "[Parallel(n_jobs=11)]: Using backend LokyBackend with 11 concurrent workers.\n",
            "[Parallel(n_jobs=11)]: Done   1 tasks      | elapsed:   16.1s\n",
            "[Parallel(n_jobs=11)]: Done   2 tasks      | elapsed:   16.2s\n",
            "[Parallel(n_jobs=11)]: Done   3 tasks      | elapsed:   16.3s\n",
            "[Parallel(n_jobs=11)]: Done   4 tasks      | elapsed:   17.0s\n",
            "[Parallel(n_jobs=11)]: Done   5 tasks      | elapsed:   17.1s\n",
            "[Parallel(n_jobs=11)]: Done   6 tasks      | elapsed:   28.8s\n",
            "[Parallel(n_jobs=11)]: Done   7 tasks      | elapsed:   29.1s\n",
            "[Parallel(n_jobs=11)]: Done   8 tasks      | elapsed:   29.2s\n",
            "[Parallel(n_jobs=11)]: Done   9 tasks      | elapsed:   29.2s\n",
            "[Parallel(n_jobs=11)]: Done  10 tasks      | elapsed:   29.5s\n",
            "[Parallel(n_jobs=11)]: Done  11 tasks      | elapsed:   47.1s\n",
            "[Parallel(n_jobs=11)]: Done  12 tasks      | elapsed:   47.4s\n",
            "[Parallel(n_jobs=11)]: Done  13 tasks      | elapsed:   48.2s\n",
            "[Parallel(n_jobs=11)]: Done  14 tasks      | elapsed:   48.5s\n",
            "[Parallel(n_jobs=11)]: Done  15 tasks      | elapsed:   52.5s\n",
            "[Parallel(n_jobs=11)]: Done  16 tasks      | elapsed:   55.9s\n",
            "[Parallel(n_jobs=11)]: Done  17 tasks      | elapsed:   59.9s\n",
            "[Parallel(n_jobs=11)]: Done  18 tasks      | elapsed:  1.0min\n",
            "[Parallel(n_jobs=11)]: Done  19 tasks      | elapsed:  1.1min\n",
            "[Parallel(n_jobs=11)]: Done  20 tasks      | elapsed:  1.1min\n",
            "[Parallel(n_jobs=11)]: Done  21 tasks      | elapsed:  1.2min\n",
            "[Parallel(n_jobs=11)]: Done  22 tasks      | elapsed:  1.2min\n",
            "[Parallel(n_jobs=11)]: Done  23 tasks      | elapsed:  1.2min\n",
            "[Parallel(n_jobs=11)]: Done  24 tasks      | elapsed:  1.2min\n",
            "[Parallel(n_jobs=11)]: Done  25 tasks      | elapsed:  1.2min\n",
            "[Parallel(n_jobs=11)]: Done  26 tasks      | elapsed:  1.2min\n",
            "[Parallel(n_jobs=11)]: Done  27 tasks      | elapsed:  1.3min\n",
            "[Parallel(n_jobs=11)]: Done  28 tasks      | elapsed:  1.3min\n",
            "[Parallel(n_jobs=11)]: Done  29 tasks      | elapsed:  1.3min\n",
            "[Parallel(n_jobs=11)]: Done  30 tasks      | elapsed:  1.3min\n",
            "[Parallel(n_jobs=11)]: Done  31 tasks      | elapsed:  1.6min\n",
            "[Parallel(n_jobs=11)]: Done  32 tasks      | elapsed:  1.7min\n",
            "[Parallel(n_jobs=11)]: Done  33 tasks      | elapsed:  1.8min\n",
            "[Parallel(n_jobs=11)]: Done  34 tasks      | elapsed:  1.8min\n",
            "[Parallel(n_jobs=11)]: Done  35 tasks      | elapsed:  1.8min\n",
            "[Parallel(n_jobs=11)]: Done  36 tasks      | elapsed:  1.8min\n",
            "[Parallel(n_jobs=11)]: Done  37 tasks      | elapsed:  1.9min\n",
            "[Parallel(n_jobs=11)]: Done  38 tasks      | elapsed:  1.9min\n",
            "[Parallel(n_jobs=11)]: Done  39 tasks      | elapsed:  2.0min\n",
            "[Parallel(n_jobs=11)]: Done  40 tasks      | elapsed:  2.0min\n",
            "[Parallel(n_jobs=11)]: Done  41 tasks      | elapsed:  2.1min\n",
            "[Parallel(n_jobs=11)]: Done  42 tasks      | elapsed:  2.1min\n",
            "[Parallel(n_jobs=11)]: Done  43 tasks      | elapsed:  2.1min\n",
            "[Parallel(n_jobs=11)]: Done  44 tasks      | elapsed:  2.2min\n",
            "[Parallel(n_jobs=11)]: Done  45 tasks      | elapsed:  2.2min\n",
            "[Parallel(n_jobs=11)]: Done  46 tasks      | elapsed:  2.2min\n",
            "[Parallel(n_jobs=11)]: Done  47 tasks      | elapsed:  2.2min\n",
            "[Parallel(n_jobs=11)]: Done  48 tasks      | elapsed:  2.2min\n",
            "[Parallel(n_jobs=11)]: Done  49 tasks      | elapsed:  2.2min\n",
            "[Parallel(n_jobs=11)]: Done  50 tasks      | elapsed:  2.2min\n",
            "[Parallel(n_jobs=11)]: Done  51 tasks      | elapsed:  2.6min\n",
            "[Parallel(n_jobs=11)]: Done  52 tasks      | elapsed:  2.6min\n",
            "[Parallel(n_jobs=11)]: Done  53 tasks      | elapsed:  2.6min\n",
            "[Parallel(n_jobs=11)]: Done  54 tasks      | elapsed:  2.7min\n",
            "[Parallel(n_jobs=11)]: Done  55 tasks      | elapsed:  2.7min\n",
            "[Parallel(n_jobs=11)]: Done  56 tasks      | elapsed:  2.7min\n",
            "[Parallel(n_jobs=11)]: Done  57 tasks      | elapsed:  2.8min\n",
            "[Parallel(n_jobs=11)]: Done  58 tasks      | elapsed:  2.8min\n",
            "[Parallel(n_jobs=11)]: Done  59 tasks      | elapsed:  2.9min\n",
            "[Parallel(n_jobs=11)]: Done  65 out of  80 | elapsed:  3.0min remaining:   41.9s\n",
            "[Parallel(n_jobs=11)]: Done  71 out of  80 | elapsed:  3.4min remaining:   26.0s\n",
            "[Parallel(n_jobs=11)]: Done  77 out of  80 | elapsed:  3.7min remaining:    8.6s\n",
            "[Parallel(n_jobs=11)]: Done  80 out of  80 | elapsed:  3.7min finished\n"
          ]
        },
        {
          "output_type": "stream",
          "name": "stdout",
          "text": [
            "{'class_weight': 'balanced', 'criterion': 'entropy', 'n_estimators': 120}\n"
          ]
        }
      ]
    },
    {
      "cell_type": "code",
      "metadata": {
        "id": "6pnaoIO28ZWS"
      },
      "source": [
        "#Using the parameters obtained from HyperParameterTuning in the RandomForestClassifier\n",
        "#Construct Random Forest using the best parameters\n",
        "rfc = RandomForestClassifier(**grid_parmR)\n",
        "rfcr = RandomForestClassifier(**grid_parmR1)\n",
        "\n",
        "rfc.fit(X_train,y_train)\n",
        "rfc_predict = rfc.predict(X_test)\n",
        "rfcr.fit(X_train,y_train)\n",
        "rfcr_predict = rfcr.predict(X_test)"
      ],
      "execution_count": 56,
      "outputs": []
    },
    {
      "cell_type": "code",
      "metadata": {
        "colab": {
          "base_uri": "https://localhost:8080/"
        },
        "id": "67jsyb4B8cKS",
        "outputId": "9ad729fe-4eac-4c33-a2a4-2b700b27059b"
      },
      "source": [
        "#Obtain accuracy ,confusion matrix,classification report and AUC values for the result above.\n",
        "print(\"accuracy Score (testset) after hypertuning randomized search for Decision Tree:{0:6f}\".format(rfc.score(X_test,y_test)))\n",
        "\n",
        "print(\"accuracy Score (testset) after hypertuning grid search for Decision Tree:{0:6f}\".format(rfcr.score(X_test,y_test)))\n",
        "print(\"Confusion Matrix after hypertuning for Decision Tree\")\n",
        "print(confusion_matrix(y_test,rfc_predict))\n",
        "print(\"=== Classification Report ===\")\n",
        "print(classification_report(y_test,rfc_predict))"
      ],
      "execution_count": 57,
      "outputs": [
        {
          "output_type": "stream",
          "name": "stdout",
          "text": [
            "accuracy Score (testset) after hypertuning randomized search for Decision Tree:0.883015\n",
            "accuracy Score (testset) after hypertuning grid search for Decision Tree:0.901329\n",
            "Confusion Matrix after hypertuning for Decision Tree\n",
            "[[39922     0]\n",
            " [ 5289     0]]\n",
            "=== Classification Report ===\n",
            "              precision    recall  f1-score   support\n",
            "\n",
            "          no       0.88      1.00      0.94     39922\n",
            "         yes       0.00      0.00      0.00      5289\n",
            "\n",
            "    accuracy                           0.88     45211\n",
            "   macro avg       0.44      0.50      0.47     45211\n",
            "weighted avg       0.78      0.88      0.83     45211\n",
            "\n"
          ]
        }
      ]
    },
    {
      "cell_type": "code",
      "metadata": {
        "colab": {
          "base_uri": "https://localhost:8080/"
        },
        "id": "_9XmmOpx8dxL",
        "outputId": "c70a7054-f2cf-440d-8d87-a498d04d02ee"
      },
      "source": [
        "#cross validation using random forest model\n",
        "rfc_cv_score = cross_val_score(rfc, X_train, y_train, cv=10, \n",
        "                               scoring=\"balanced_accuracy\", n_jobs=9, \n",
        "                               error_score=-1, verbose=3)\n",
        "print(rfc_cv_score)\n",
        "print('\\n')"
      ],
      "execution_count": 58,
      "outputs": [
        {
          "output_type": "stream",
          "name": "stderr",
          "text": [
            "[Parallel(n_jobs=9)]: Using backend LokyBackend with 9 concurrent workers.\n",
            "[Parallel(n_jobs=9)]: Done   5 out of  10 | elapsed:    7.6s remaining:    7.6s\n"
          ]
        },
        {
          "output_type": "stream",
          "name": "stdout",
          "text": [
            "[0.5 0.5 0.5 0.5 0.5 0.5 0.5 0.5 0.5 0.5]\n",
            "\n",
            "\n"
          ]
        },
        {
          "output_type": "stream",
          "name": "stderr",
          "text": [
            "[Parallel(n_jobs=9)]: Done  10 out of  10 | elapsed:   14.5s finished\n"
          ]
        }
      ]
    }
  ]
}